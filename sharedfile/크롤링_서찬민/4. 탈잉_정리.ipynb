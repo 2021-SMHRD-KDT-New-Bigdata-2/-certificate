{
 "cells": [
  {
   "cell_type": "code",
   "execution_count": 1,
   "metadata": {},
   "outputs": [],
   "source": [
    "from selenium import webdriver as wb\n",
    "from selenium.webdriver.common.action_chains import ActionChains\n",
    "from selenium.webdriver import ChromeOptions\n",
    "\n",
    "from selenium.webdriver.common.keys import Keys\n",
    "from bs4 import BeautifulSoup as bs\n",
    "import time\n",
    "from tqdm.notebook import tqdm\n",
    "import pandas as pd"
   ]
  },
  {
   "cell_type": "markdown",
   "metadata": {},
   "source": [
    "# 첫 번째 페이지에 있는 게시글만 반복해보기"
   ]
  },
  {
   "cell_type": "code",
   "execution_count": 4,
   "metadata": {},
   "outputs": [
    {
     "ename": "NoSuchElementException",
     "evalue": "Message: no such element: Unable to locate element: {\"method\":\"css selector\",\"selector\":\"#layerPop > div > div > button:nth-child(3)\"}\n  (Session info: chrome=94.0.4606.81)\n",
     "output_type": "error",
     "traceback": [
      "\u001b[1;31m---------------------------------------------------------------------------\u001b[0m",
      "\u001b[1;31mNoSuchElementException\u001b[0m                    Traceback (most recent call last)",
      "\u001b[1;32m<ipython-input-4-e7362b869719>\u001b[0m in \u001b[0;36m<module>\u001b[1;34m\u001b[0m\n\u001b[0;32m     12\u001b[0m \u001b[1;33m\u001b[0m\u001b[0m\n\u001b[0;32m     13\u001b[0m \u001b[1;31m# 팝업창 닫기\u001b[0m\u001b[1;33m\u001b[0m\u001b[1;33m\u001b[0m\u001b[1;33m\u001b[0m\u001b[0m\n\u001b[1;32m---> 14\u001b[1;33m \u001b[0mdriver\u001b[0m\u001b[1;33m.\u001b[0m\u001b[0mfind_element_by_css_selector\u001b[0m\u001b[1;33m(\u001b[0m\u001b[1;34m\"#layerPop > div > div > button:nth-child(3)\"\u001b[0m\u001b[1;33m)\u001b[0m\u001b[1;33m.\u001b[0m\u001b[0mclick\u001b[0m\u001b[1;33m(\u001b[0m\u001b[1;33m)\u001b[0m\u001b[1;33m\u001b[0m\u001b[1;33m\u001b[0m\u001b[0m\n\u001b[0m\u001b[0;32m     15\u001b[0m \u001b[0mtime\u001b[0m\u001b[1;33m.\u001b[0m\u001b[0msleep\u001b[0m\u001b[1;33m(\u001b[0m\u001b[1;36m1\u001b[0m\u001b[1;33m)\u001b[0m\u001b[1;33m\u001b[0m\u001b[1;33m\u001b[0m\u001b[0m\n\u001b[0;32m     16\u001b[0m \u001b[1;33m\u001b[0m\u001b[0m\n",
      "\u001b[1;32m~\\Anaconda3\\lib\\site-packages\\selenium\\webdriver\\remote\\webdriver.py\u001b[0m in \u001b[0;36mfind_element_by_css_selector\u001b[1;34m(self, css_selector)\u001b[0m\n\u001b[0;32m    596\u001b[0m             \u001b[0melement\u001b[0m \u001b[1;33m=\u001b[0m \u001b[0mdriver\u001b[0m\u001b[1;33m.\u001b[0m\u001b[0mfind_element_by_css_selector\u001b[0m\u001b[1;33m(\u001b[0m\u001b[1;34m'#foo'\u001b[0m\u001b[1;33m)\u001b[0m\u001b[1;33m\u001b[0m\u001b[1;33m\u001b[0m\u001b[0m\n\u001b[0;32m    597\u001b[0m         \"\"\"\n\u001b[1;32m--> 598\u001b[1;33m         \u001b[1;32mreturn\u001b[0m \u001b[0mself\u001b[0m\u001b[1;33m.\u001b[0m\u001b[0mfind_element\u001b[0m\u001b[1;33m(\u001b[0m\u001b[0mby\u001b[0m\u001b[1;33m=\u001b[0m\u001b[0mBy\u001b[0m\u001b[1;33m.\u001b[0m\u001b[0mCSS_SELECTOR\u001b[0m\u001b[1;33m,\u001b[0m \u001b[0mvalue\u001b[0m\u001b[1;33m=\u001b[0m\u001b[0mcss_selector\u001b[0m\u001b[1;33m)\u001b[0m\u001b[1;33m\u001b[0m\u001b[1;33m\u001b[0m\u001b[0m\n\u001b[0m\u001b[0;32m    599\u001b[0m \u001b[1;33m\u001b[0m\u001b[0m\n\u001b[0;32m    600\u001b[0m     \u001b[1;32mdef\u001b[0m \u001b[0mfind_elements_by_css_selector\u001b[0m\u001b[1;33m(\u001b[0m\u001b[0mself\u001b[0m\u001b[1;33m,\u001b[0m \u001b[0mcss_selector\u001b[0m\u001b[1;33m)\u001b[0m\u001b[1;33m:\u001b[0m\u001b[1;33m\u001b[0m\u001b[1;33m\u001b[0m\u001b[0m\n",
      "\u001b[1;32m~\\Anaconda3\\lib\\site-packages\\selenium\\webdriver\\remote\\webdriver.py\u001b[0m in \u001b[0;36mfind_element\u001b[1;34m(self, by, value)\u001b[0m\n\u001b[0;32m    976\u001b[0m         return self.execute(Command.FIND_ELEMENT, {\n\u001b[0;32m    977\u001b[0m             \u001b[1;34m'using'\u001b[0m\u001b[1;33m:\u001b[0m \u001b[0mby\u001b[0m\u001b[1;33m,\u001b[0m\u001b[1;33m\u001b[0m\u001b[1;33m\u001b[0m\u001b[0m\n\u001b[1;32m--> 978\u001b[1;33m             'value': value})['value']\n\u001b[0m\u001b[0;32m    979\u001b[0m \u001b[1;33m\u001b[0m\u001b[0m\n\u001b[0;32m    980\u001b[0m     \u001b[1;32mdef\u001b[0m \u001b[0mfind_elements\u001b[0m\u001b[1;33m(\u001b[0m\u001b[0mself\u001b[0m\u001b[1;33m,\u001b[0m \u001b[0mby\u001b[0m\u001b[1;33m=\u001b[0m\u001b[0mBy\u001b[0m\u001b[1;33m.\u001b[0m\u001b[0mID\u001b[0m\u001b[1;33m,\u001b[0m \u001b[0mvalue\u001b[0m\u001b[1;33m=\u001b[0m\u001b[1;32mNone\u001b[0m\u001b[1;33m)\u001b[0m\u001b[1;33m:\u001b[0m\u001b[1;33m\u001b[0m\u001b[1;33m\u001b[0m\u001b[0m\n",
      "\u001b[1;32m~\\Anaconda3\\lib\\site-packages\\selenium\\webdriver\\remote\\webdriver.py\u001b[0m in \u001b[0;36mexecute\u001b[1;34m(self, driver_command, params)\u001b[0m\n\u001b[0;32m    319\u001b[0m         \u001b[0mresponse\u001b[0m \u001b[1;33m=\u001b[0m \u001b[0mself\u001b[0m\u001b[1;33m.\u001b[0m\u001b[0mcommand_executor\u001b[0m\u001b[1;33m.\u001b[0m\u001b[0mexecute\u001b[0m\u001b[1;33m(\u001b[0m\u001b[0mdriver_command\u001b[0m\u001b[1;33m,\u001b[0m \u001b[0mparams\u001b[0m\u001b[1;33m)\u001b[0m\u001b[1;33m\u001b[0m\u001b[1;33m\u001b[0m\u001b[0m\n\u001b[0;32m    320\u001b[0m         \u001b[1;32mif\u001b[0m \u001b[0mresponse\u001b[0m\u001b[1;33m:\u001b[0m\u001b[1;33m\u001b[0m\u001b[1;33m\u001b[0m\u001b[0m\n\u001b[1;32m--> 321\u001b[1;33m             \u001b[0mself\u001b[0m\u001b[1;33m.\u001b[0m\u001b[0merror_handler\u001b[0m\u001b[1;33m.\u001b[0m\u001b[0mcheck_response\u001b[0m\u001b[1;33m(\u001b[0m\u001b[0mresponse\u001b[0m\u001b[1;33m)\u001b[0m\u001b[1;33m\u001b[0m\u001b[1;33m\u001b[0m\u001b[0m\n\u001b[0m\u001b[0;32m    322\u001b[0m             response['value'] = self._unwrap_value(\n\u001b[0;32m    323\u001b[0m                 response.get('value', None))\n",
      "\u001b[1;32m~\\Anaconda3\\lib\\site-packages\\selenium\\webdriver\\remote\\errorhandler.py\u001b[0m in \u001b[0;36mcheck_response\u001b[1;34m(self, response)\u001b[0m\n\u001b[0;32m    240\u001b[0m                 \u001b[0malert_text\u001b[0m \u001b[1;33m=\u001b[0m \u001b[0mvalue\u001b[0m\u001b[1;33m[\u001b[0m\u001b[1;34m'alert'\u001b[0m\u001b[1;33m]\u001b[0m\u001b[1;33m.\u001b[0m\u001b[0mget\u001b[0m\u001b[1;33m(\u001b[0m\u001b[1;34m'text'\u001b[0m\u001b[1;33m)\u001b[0m\u001b[1;33m\u001b[0m\u001b[1;33m\u001b[0m\u001b[0m\n\u001b[0;32m    241\u001b[0m             \u001b[1;32mraise\u001b[0m \u001b[0mexception_class\u001b[0m\u001b[1;33m(\u001b[0m\u001b[0mmessage\u001b[0m\u001b[1;33m,\u001b[0m \u001b[0mscreen\u001b[0m\u001b[1;33m,\u001b[0m \u001b[0mstacktrace\u001b[0m\u001b[1;33m,\u001b[0m \u001b[0malert_text\u001b[0m\u001b[1;33m)\u001b[0m\u001b[1;33m\u001b[0m\u001b[1;33m\u001b[0m\u001b[0m\n\u001b[1;32m--> 242\u001b[1;33m         \u001b[1;32mraise\u001b[0m \u001b[0mexception_class\u001b[0m\u001b[1;33m(\u001b[0m\u001b[0mmessage\u001b[0m\u001b[1;33m,\u001b[0m \u001b[0mscreen\u001b[0m\u001b[1;33m,\u001b[0m \u001b[0mstacktrace\u001b[0m\u001b[1;33m)\u001b[0m\u001b[1;33m\u001b[0m\u001b[1;33m\u001b[0m\u001b[0m\n\u001b[0m\u001b[0;32m    243\u001b[0m \u001b[1;33m\u001b[0m\u001b[0m\n\u001b[0;32m    244\u001b[0m     \u001b[1;32mdef\u001b[0m \u001b[0m_value_or_default\u001b[0m\u001b[1;33m(\u001b[0m\u001b[0mself\u001b[0m\u001b[1;33m,\u001b[0m \u001b[0mobj\u001b[0m\u001b[1;33m,\u001b[0m \u001b[0mkey\u001b[0m\u001b[1;33m,\u001b[0m \u001b[0mdefault\u001b[0m\u001b[1;33m)\u001b[0m\u001b[1;33m:\u001b[0m\u001b[1;33m\u001b[0m\u001b[1;33m\u001b[0m\u001b[0m\n",
      "\u001b[1;31mNoSuchElementException\u001b[0m: Message: no such element: Unable to locate element: {\"method\":\"css selector\",\"selector\":\"#layerPop > div > div > button:nth-child(3)\"}\n  (Session info: chrome=94.0.4606.81)\n"
     ]
    }
   ],
   "source": [
    "# 탈잉 메인페이지 접속\n",
    "\n",
    "options = ChromeOptions()\n",
    "options.add_argument(\"--start-maximized\")\n",
    "options.add_argument(\"user-agent=Mozilla/5.0 (Windows NT 10.0; Win64; x64) AppleWebKit/537.36 (KHTML, like Gecko) Chrome/94.0.4606.81 Safari/537.36\")\n",
    "driver = wb.Chrome(options=options)\n",
    "time.sleep(1)\n",
    "url = \"https://taling.me/\"\n",
    "driver.get(url)\n",
    "time.sleep(1)\n",
    "\n",
    "\n",
    "# 팝업창 닫기\n",
    "driver.find_element_by_css_selector(\"#layerPop > div > div > button:nth-child(3)\").click()\n",
    "time.sleep(1)\n",
    "\n",
    "# 전체 카테고리 클릭\n",
    "driver.find_element_by_css_selector(\"#header > div > div.category > button\").click()\n",
    "time.sleep(1)\n",
    "\n",
    "# 일단 4번 웹개발부터 시작해보자\n",
    "driver.find_element_by_css_selector(\"#menuList > table > tbody > tr:nth-child(7) > td > a:nth-child(8)\").click()\n",
    "time.sleep(1)\n",
    "\n",
    "# 페이지에 게시글 수만큼 반복하기\n",
    "post_box = driver.find_element_by_css_selector(\"#top-space > div\")\n",
    "posts = post_box.find_elements_by_css_selector(\"div.cont2_class\")\n",
    "\n",
    "# 일단 강의명, 강사명 가져오기\n",
    "title = []\n",
    "instructor = []\n",
    "price = []\n",
    "lectures = []\n",
    "rating = []\n",
    "url = []\n",
    "reviewer = []\n",
    "review = []\n",
    "\n",
    "for post_no in tqdm(range(1, len(posts)+1)):\n",
    "    each_price = []\n",
    "    each_lecture = []\n",
    "    each_rating = []\n",
    "    each_review = []\n",
    "    each_reviewer = []\n",
    "    \n",
    "    if post_no == 2:\n",
    "        continue\n",
    "    else:\n",
    "        title.append(driver.find_element_by_css_selector(\"#top-space > div > div:nth-child(1) > a > div.title\").text)\n",
    "        instructor.append(driver.find_element_by_css_selector(\"#top-space > div > div:nth-child(1) > a > div.profile_box > div.name\").text)\n",
    "    \n",
    "    # n 번째 게시글 클릭\n",
    "    driver.find_element_by_css_selector(\"#top-space > div > div:nth-child(\" + str(post_no) + \")\").click()\n",
    "\n",
    "    # main_tap 에 드라이버의 메인 위치 저장하기\n",
    "    main_tap = driver.current_window_handle\n",
    "\n",
    "    # 새탭으로 driver 이동시키기\n",
    "    driver.switch_to.window(driver.window_handles[1])\n",
    "\n",
    "    # 가격\n",
    "    each_price = driver.find_element_by_css_selector(\"#wrap > div:nth-child(2) > aside > div > p > span.total > b\").text\n",
    "    each_price.replace(\" /\",\"\")\n",
    "    price.append(each_price)\n",
    "     \n",
    "    # 강의 수 \n",
    "    lectures.append(driver.find_element_by_css_selector(\"#wrap > div:nth-child(2) > aside > div > p > span.total > span\").text)\n",
    "\n",
    "    # 평점\n",
    "    each_rating = driver.find_element_by_css_selector(\"#wrap > div:nth-child(2) > div.p2p_class_container > section.p2p_class_info > div > div.short_info > span > i.grade_total\").text\n",
    "    each_rating = each_rating.replace(\"(\", \" (\")\n",
    "    each_rating = each_rating.split()\n",
    "    rating.append(each_rating)\n",
    "                                        \n",
    "    # URL\n",
    "    each_url = driver.find_element_by_xpath(\"//meta[@property='og:url']\")\n",
    "    url.append(each_url.get_attribute('content'))\n",
    "\n",
    "    # 리뷰\n",
    "    # driver.find_element_by_css_selector(\"#wrap > div.p2p_class_nav.fixed > ul > li:nth-child(4) > a\").click()\n",
    "    elements = driver.find_elements_by_class_name(\"more\")\n",
    "    for element in elements :\n",
    "        driver.execute_script(\"arguments[0].click();\", element)\n",
    "        review_box = driver.find_element_by_css_selector(\"#innerReviewDiv\")\n",
    "        reviewers = review_box.find_elements_by_css_selector(\"ul > li > div.tutee_info\")\n",
    "        reviews = review_box.find_elements_by_css_selector(\"ul > li > div.cmt\")\n",
    "        \n",
    "        for i in range(len(reviews)):\n",
    "            each_reviewer.append(reviewers[i].text)\n",
    "            each_review.append(reviews[i].text)\n",
    "                                        \n",
    "        reviewer.append(each_reviewer)\n",
    "        review.append(each_review)\n",
    "    \n",
    "    # 새탭 닫기\n",
    "    driver.close()\n",
    "\n",
    "    # main_tap으로 돌아오기\n",
    "    driver.switch_to.window(main_tap)\n"
   ]
  },
  {
   "cell_type": "code",
   "execution_count": 17,
   "metadata": {},
   "outputs": [
    {
     "data": {
      "text/plain": [
       "21"
      ]
     },
     "execution_count": 17,
     "metadata": {},
     "output_type": "execute_result"
    }
   ],
   "source": [
    "len(review)"
   ]
  },
  {
   "cell_type": "code",
   "execution_count": 16,
   "metadata": {
    "scrolled": true
   },
   "outputs": [
    {
     "data": {
      "text/plain": [
       "21"
      ]
     },
     "execution_count": 16,
     "metadata": {},
     "output_type": "execute_result"
    }
   ],
   "source": [
    "len(reviewer)"
   ]
  },
  {
   "cell_type": "code",
   "execution_count": null,
   "metadata": {},
   "outputs": [],
   "source": []
  },
  {
   "cell_type": "code",
   "execution_count": 19,
   "metadata": {},
   "outputs": [],
   "source": [
    "# 탈잉 메인페이지 접속\n",
    "\n",
    "options = ChromeOptions()\n",
    "options.add_argument(\"--start-maximized\")\n",
    "driver = wb.Chrome(options=options)\n",
    "time.sleep(1)\n",
    "for i in range(1,7):\n",
    "    url = \"https://taling.me/Home/Search/?page=\"+str(i)+\"&cateMain=&cateSub=34&region=&orderIdx=&query=&code=&org=&day=&time=&tType=&region=&regionMain=\"\n",
    "    driver.get(url)\n",
    "    \n",
    "time.sleep(1)\n",
    "\n"
   ]
  },
  {
   "cell_type": "code",
   "execution_count": null,
   "metadata": {},
   "outputs": [],
   "source": []
  },
  {
   "cell_type": "code",
   "execution_count": null,
   "metadata": {},
   "outputs": [],
   "source": []
  }
 ],
 "metadata": {
  "kernelspec": {
   "display_name": "Python 3",
   "language": "python",
   "name": "python3"
  },
  "language_info": {
   "codemirror_mode": {
    "name": "ipython",
    "version": 3
   },
   "file_extension": ".py",
   "mimetype": "text/x-python",
   "name": "python",
   "nbconvert_exporter": "python",
   "pygments_lexer": "ipython3",
   "version": "3.7.4"
  }
 },
 "nbformat": 4,
 "nbformat_minor": 2
}
