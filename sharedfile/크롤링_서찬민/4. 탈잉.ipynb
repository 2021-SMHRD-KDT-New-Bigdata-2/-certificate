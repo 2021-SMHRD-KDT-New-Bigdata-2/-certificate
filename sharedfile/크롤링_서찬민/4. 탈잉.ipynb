{
 "cells": [
  {
   "cell_type": "code",
   "execution_count": 1,
   "metadata": {},
   "outputs": [],
   "source": [
    "from selenium import webdriver as wb\n",
    "from selenium.webdriver.common.action_chains import ActionChains\n",
    "from selenium.webdriver import ChromeOptions\n",
    "\n",
    "from selenium.webdriver.common.keys import Keys\n",
    "from bs4 import BeautifulSoup as bs\n",
    "import time\n",
    "from tqdm.notebook import tqdm\n",
    "import pandas as pd"
   ]
  },
  {
   "cell_type": "code",
   "execution_count": null,
   "metadata": {},
   "outputs": [],
   "source": [
    "# 탈잉 메인페이지 접속\n",
    "\n",
    "options = ChromeOptions()\n",
    "options.add_argument(\"--start-maximized\")\n",
    "driver = wb.Chrome(options=options)\n",
    "time.sleep(1)\n",
    "url = \"https://taling.me/\"\n",
    "driver.get(url)\n",
    "time.sleep(1)\n",
    "\n",
    "\n",
    "# 팝업창 닫기\n",
    "driver.find_element_by_css_selector(\"#layerPop > div > div > button:nth-child(3)\").click()\n",
    "time.sleep(1)\n",
    "\n",
    "# 전체 카테고리 클릭\n",
    "driver.find_element_by_css_selector(\"#header > div > div.category > button\").click()\n",
    "time.sleep(1)\n",
    "\n",
    "# 커리어 > 엑셀 / 피피티 / 데이터분석 / 웹개발 / 앱개발 / 컴퓨터공학\n",
    "# 1) 엑셀\n",
    "        #menuList > table > tbody > tr:nth-child(7) > td > a:nth-child(4)\n",
    "# 2) 피피티\n",
    "        #menuList > table > tbody > tr:nth-child(7) > td > a:nth-child(5)\n",
    "# 3) 데이터분석\n",
    "        #menuList > table > tbody > tr:nth-child(7) > td > a:nth-child(7)\n",
    "# 4) 웹개발\n",
    "        #menuList > table > tbody > tr:nth-child(7) > td > a:nth-child(8)\n",
    "# 5) 앱개발\n",
    "        #menuList > table > tbody > tr:nth-child(7) > td > a:nth-child(9)\n",
    "# 6) 컴퓨터공학\n",
    "        #menuList > table > tbody > tr:nth-child(7) > td > a:nth-child(10)\n",
    "    \n",
    "\n",
    "# 일단 4번 웹개발부터 시작해보자\n",
    "driver.find_element_by_css_selector(\"#menuList > table > tbody > tr:nth-child(7) > td > a:nth-child(10)\").click()\n",
    "time.sleep(1)\n",
    "\n",
    "# 첫 페이지에서 첫 번째 게시글 들어가기\n",
    "driver.find_element_by_css_selector(\"#top-space > div > div:nth-child(1)\")\n",
    "\n",
    "# 4번째 페이지에서 5번째 게시글 들어가기 - SOLD OUT 게시글\n",
    "test = driver.find_element_by_css_selector(\"#top-space > div > div:nth-child(5)\")\n",
    "test.text\n",
    "\n",
    "\n",
    "\n",
    "# 전체 페이지 수 만큼 반복하기 X - 불가능하다고 하심 - 다음 페이지 누르게 하고 페이지수는 내가 확인해서 정해줘야 한다고 함.\n",
    "# 나중에 67페이지가 70페이지가 되더라도 어쩔 수 없다 함. 다 뜯어보면 될지 몰라도 그렇게 잘 안 한다고 하네요\n",
    "\n",
    "\n",
    "\n",
    "# 각 content에서 title, instructor, rating, price를 다 담아주기 \n",
    "# 전체를 담아주니까 밖에 설정\n",
    "title = []\n",
    "instructor = []\n",
    "tags = []\n",
    "price = []\n",
    "index = []\n",
    "cnt = 0\n",
    "\n",
    "\n",
    "for page_no in tqdm(range(67)):\n",
    "\n",
    "    # 한 페이지에 있는 게시글 모아진 div 1개 담기\n",
    "    div_container = driver.find_element_by_css_selector(\"#courses_section > div > div > div > main > div.courses_container > div\")\n",
    "    \n",
    "    # 박스 중에서 첫 번째 게시글 담기  -  하위 태그 div 5개를 다 가지고 있다\n",
    "    div_content = div_container.find_elements_by_class_name(\"card-content\")\n",
    "    \n",
    "    # 아래에서 content를 find_element\"s\" 로 가져오면 리스트 형태가 되는데 content 안에 title, instructor, rating, price가 담겨 있음\n",
    "    # 각 content마다 title, instructor, rating, price의 셀레니움코드?를 받아줄 곳. 67페이지 전체\n",
    "    div_course_title = []\n",
    "    div_instructor = []\n",
    "    div_tags = []\n",
    "    div_price = []\n",
    "\n",
    "    # 반복문으로 필요 없는 tags 빼고 정보 담기\n",
    "    for i in div_content:\n",
    "        div_course_title.append(i.find_element_by_class_name(\"course_title\"))\n",
    "        div_instructor.append(i.find_element_by_class_name(\"instructor\"))\n",
    "        div_tags.append(i.find_element_by_class_name(\"tags\"))\n",
    "        div_price.append(i.find_element_by_class_name(\"price\"))\n",
    "\n",
    "        \n",
    "    # 각각 가지고 오기    \n",
    "    for i in tqdm(range(len(div_course_title))):\n",
    "        title.append(div_course_title[i].text)\n",
    "        instructor.append(div_instructor[i].text)\n",
    "        tags.append(div_tags[i].text)\n",
    "        price.append(div_price[i].text)\n",
    "        cnt += 1 \n",
    "        index.append(cnt)\n",
    "    \n",
    "    body = driver.find_element_by_css_selector(\"body\")\n",
    "    for i in range(2):\n",
    "        body.send_keys(Keys.PAGE_DOWN)\n",
    "        time.sleep(0.5)\n",
    "    \n",
    "    # 다음 페이지로 넘어가기\n",
    "    time.sleep(1)\n",
    "    driver.find_element_by_xpath(\"//*[@id=\\\"courses_section\\\"]/div/div/div/footer/nav/div/a\").click()\n",
    "    time.sleep(1)\n",
    "\n",
    "\n",
    "dic = {'제목':title, '강사':instructor, '가격':price, '설명':tags}\n",
    "df = pd.DataFrame(dic, index=index)\n",
    "df.to_csv(\"인프런_강의목록.csv\", encoding='utf-8-sig')"
   ]
  },
  {
   "cell_type": "markdown",
   "metadata": {},
   "source": [
    "# 첫 번째 페이지까지 들어가기"
   ]
  },
  {
   "cell_type": "code",
   "execution_count": 35,
   "metadata": {},
   "outputs": [],
   "source": [
    "# 탈잉 메인페이지 접속\n",
    "\n",
    "options = ChromeOptions()\n",
    "options.add_argument(\"--start-maximized\")\n",
    "driver = wb.Chrome(options=options)\n",
    "time.sleep(1)\n",
    "url = \"https://taling.me/\"\n",
    "driver.get(url)\n",
    "time.sleep(1)\n",
    "\n",
    "\n",
    "# 팝업창 닫기\n",
    "driver.find_element_by_css_selector(\"#layerPop > div > div > button:nth-child(3)\").click()\n",
    "time.sleep(1)\n",
    "\n",
    "# 전체 카테고리 클릭\n",
    "driver.find_element_by_css_selector(\"#header > div > div.category > button\").click()\n",
    "time.sleep(1)\n",
    "\n",
    "# 커리어 > 엑셀 / 피피티 / 데이터분석 / 웹개발 / 앱개발 / 컴퓨터공학\n",
    "# 1) 엑셀\n",
    "        #menuList > table > tbody > tr:nth-child(7) > td > a:nth-child(4)\n",
    "# 2) 피피티\n",
    "        #menuList > table > tbody > tr:nth-child(7) > td > a:nth-child(5)\n",
    "# 3) 데이터분석\n",
    "        #menuList > table > tbody > tr:nth-child(7) > td > a:nth-child(7)\n",
    "# 4) 웹개발\n",
    "        #menuList > table > tbody > tr:nth-child(7) > td > a:nth-child(8)\n",
    "# 5) 앱개발\n",
    "        #menuList > table > tbody > tr:nth-child(7) > td > a:nth-child(9)\n",
    "# 6) 컴퓨터공학\n",
    "        #menuList > table > tbody > tr:nth-child(7) > td > a:nth-child(10)\n",
    "    \n",
    "\n",
    "# 일단 4번 웹개발부터 시작해보자\n",
    "driver.find_element_by_css_selector(\"#menuList > table > tbody > tr:nth-child(7) > td > a:nth-child(8)\").click()\n",
    "time.sleep(1)"
   ]
  },
  {
   "cell_type": "markdown",
   "metadata": {},
   "source": [
    "# SOLD OUT 테스트"
   ]
  },
  {
   "cell_type": "code",
   "execution_count": 7,
   "metadata": {},
   "outputs": [
    {
     "name": "stdout",
     "output_type": "stream",
     "text": [
      "75명 찜\n",
      "허지훈\n",
      "허지훈\n",
      "nodejs+express+mysql을 활용한 API서버\n",
      "￦27,500/시간\n",
      "★★★★★\n",
      "(1)\n",
      "잠실\n",
      "===========구분선=================\n",
      "SOLD OUT\n",
      "407명 찜\n",
      "푸른양귀비\n",
      "푸른양귀비\n",
      "[비전공자도 가능한 웹 프로젝트] REACTJS NODEJS MYSQL AWS 웹개발\n",
      "￦27,500/시간\n",
      "★★★★★\n",
      "(17)\n",
      "지역 없음\n"
     ]
    }
   ],
   "source": [
    "# 첫 페이지에서 첫 번째 게시글 들어가기\n",
    "test1 = driver.find_element_by_css_selector(\"#top-space > div > div:nth-child(1)\")\n",
    "print(test1.text)\n",
    "\n",
    "print(\"===========구분선=================\")\n",
    "# 4번째 페이지에서 5번째 게시글 들어가기 - SOLD OUT 게시글\n",
    "test2 = driver.find_element_by_css_selector(\"#top-space > div > div:nth-child(5)\")\n",
    "print(test2.text)"
   ]
  },
  {
   "cell_type": "code",
   "execution_count": 16,
   "metadata": {},
   "outputs": [
    {
     "data": {
      "text/plain": [
       "'75명 찜'"
      ]
     },
     "execution_count": 16,
     "metadata": {},
     "output_type": "execute_result"
    }
   ],
   "source": [
    "#top-space > div > div:nth-child(1) \n",
    "#top-space > div > div:nth-child(1) > a > div.img > div\n",
    "test1_1 = test1.find_element_by_css_selector(\"a > div.img > div\")\n",
    "test1_1.text"
   ]
  },
  {
   "cell_type": "code",
   "execution_count": 19,
   "metadata": {},
   "outputs": [
    {
     "name": "stdout",
     "output_type": "stream",
     "text": [
      "제발 맞아라\n"
     ]
    }
   ],
   "source": [
    "#top-space > div > div:nth-child(5) > a > div.img > div.soldoutbox\n",
    "test2 = driver.find_element_by_css_selector(\"#top-space > div > div:nth-child(5)\")\n",
    "test2_1 = test2.find_element_by_css_selector(\"a > div.img > div\")\n",
    "if test2_1.text == \"SOLD OUT\":\n",
    "    print(\"제발 맞아라\")\n",
    "else:\n",
    "    print(\"넌 망함\")"
   ]
  },
  {
   "cell_type": "markdown",
   "metadata": {},
   "source": [
    "# 4번째 페이지에서 테스트 하기 ( SOLD OUT )"
   ]
  },
  {
   "cell_type": "code",
   "execution_count": 22,
   "metadata": {},
   "outputs": [
    {
     "name": "stdout",
     "output_type": "stream",
     "text": [
      "75명 찜\n",
      "1DAY수업\n",
      "1DAY수업\n",
      "1DAY수업\n",
      "제발 맞아라\n",
      "이거까지 확인해야지\n"
     ]
    }
   ],
   "source": [
    "for i in range(1,8):\n",
    "    # 첫 페이지에서 첫 번째 게시글 들어가기\n",
    "    test = driver.find_element_by_css_selector(\"#top-space > div > div:nth-child(\"+str(i)+\")\")\n",
    "    test2_1 = test.find_element_by_css_selector(\"a > div.img > div\")\n",
    "    if test2_1.text == \"SOLD OUT\":\n",
    "        print(\"제발 맞아라\")\n",
    "        break\n",
    "    else:\n",
    "        test1_1 = test.find_element_by_css_selector(\"a > div.img > div\")\n",
    "        print(test1_1.text)\n",
    "print(\"이거까지 확인해야지\")"
   ]
  },
  {
   "cell_type": "markdown",
   "metadata": {},
   "source": [
    "# driver 창 옮기기"
   ]
  },
  {
   "cell_type": "markdown",
   "metadata": {},
   "source": [
    "### 첫 번째 게시글 클릭"
   ]
  },
  {
   "cell_type": "code",
   "execution_count": 36,
   "metadata": {},
   "outputs": [],
   "source": [
    "driver.find_element_by_css_selector(\"#top-space > div > div:nth-child(1)\").click()"
   ]
  },
  {
   "cell_type": "code",
   "execution_count": 37,
   "metadata": {},
   "outputs": [],
   "source": [
    "driver.find_element_by_css_selector(\"#top-space > div > div:nth-child(2)\").click()"
   ]
  },
  {
   "cell_type": "markdown",
   "metadata": {},
   "source": [
    "## 탭만 열렸지. driver는 지금 첫번째에 있음"
   ]
  },
  {
   "cell_type": "code",
   "execution_count": 43,
   "metadata": {},
   "outputs": [
    {
     "ename": "NoSuchWindowException",
     "evalue": "Message: no such window: target window already closed\nfrom unknown error: web view not found\n  (Session info: chrome=94.0.4606.81)\n",
     "output_type": "error",
     "traceback": [
      "\u001b[1;31m---------------------------------------------------------------------------\u001b[0m",
      "\u001b[1;31mNoSuchWindowException\u001b[0m                     Traceback (most recent call last)",
      "\u001b[1;32m<ipython-input-43-4562fd55897c>\u001b[0m in \u001b[0;36m<module>\u001b[1;34m\u001b[0m\n\u001b[0;32m      1\u001b[0m \u001b[1;31m# 메인페이지임 . 게시글이 있는\u001b[0m\u001b[1;33m\u001b[0m\u001b[1;33m\u001b[0m\u001b[1;33m\u001b[0m\u001b[0m\n\u001b[1;32m----> 2\u001b[1;33m \u001b[0mprint\u001b[0m\u001b[1;33m(\u001b[0m\u001b[0mdriver\u001b[0m\u001b[1;33m.\u001b[0m\u001b[0mcurrent_window_handle\u001b[0m\u001b[1;33m)\u001b[0m\u001b[1;33m\u001b[0m\u001b[1;33m\u001b[0m\u001b[0m\n\u001b[0m",
      "\u001b[1;32m~\\Anaconda3\\lib\\site-packages\\selenium\\webdriver\\remote\\webdriver.py\u001b[0m in \u001b[0;36mcurrent_window_handle\u001b[1;34m(self)\u001b[0m\n\u001b[0;32m    709\u001b[0m         \"\"\"\n\u001b[0;32m    710\u001b[0m         \u001b[1;32mif\u001b[0m \u001b[0mself\u001b[0m\u001b[1;33m.\u001b[0m\u001b[0mw3c\u001b[0m\u001b[1;33m:\u001b[0m\u001b[1;33m\u001b[0m\u001b[1;33m\u001b[0m\u001b[0m\n\u001b[1;32m--> 711\u001b[1;33m             \u001b[1;32mreturn\u001b[0m \u001b[0mself\u001b[0m\u001b[1;33m.\u001b[0m\u001b[0mexecute\u001b[0m\u001b[1;33m(\u001b[0m\u001b[0mCommand\u001b[0m\u001b[1;33m.\u001b[0m\u001b[0mW3C_GET_CURRENT_WINDOW_HANDLE\u001b[0m\u001b[1;33m)\u001b[0m\u001b[1;33m[\u001b[0m\u001b[1;34m'value'\u001b[0m\u001b[1;33m]\u001b[0m\u001b[1;33m\u001b[0m\u001b[1;33m\u001b[0m\u001b[0m\n\u001b[0m\u001b[0;32m    712\u001b[0m         \u001b[1;32melse\u001b[0m\u001b[1;33m:\u001b[0m\u001b[1;33m\u001b[0m\u001b[1;33m\u001b[0m\u001b[0m\n\u001b[0;32m    713\u001b[0m             \u001b[1;32mreturn\u001b[0m \u001b[0mself\u001b[0m\u001b[1;33m.\u001b[0m\u001b[0mexecute\u001b[0m\u001b[1;33m(\u001b[0m\u001b[0mCommand\u001b[0m\u001b[1;33m.\u001b[0m\u001b[0mGET_CURRENT_WINDOW_HANDLE\u001b[0m\u001b[1;33m)\u001b[0m\u001b[1;33m[\u001b[0m\u001b[1;34m'value'\u001b[0m\u001b[1;33m]\u001b[0m\u001b[1;33m\u001b[0m\u001b[1;33m\u001b[0m\u001b[0m\n",
      "\u001b[1;32m~\\Anaconda3\\lib\\site-packages\\selenium\\webdriver\\remote\\webdriver.py\u001b[0m in \u001b[0;36mexecute\u001b[1;34m(self, driver_command, params)\u001b[0m\n\u001b[0;32m    319\u001b[0m         \u001b[0mresponse\u001b[0m \u001b[1;33m=\u001b[0m \u001b[0mself\u001b[0m\u001b[1;33m.\u001b[0m\u001b[0mcommand_executor\u001b[0m\u001b[1;33m.\u001b[0m\u001b[0mexecute\u001b[0m\u001b[1;33m(\u001b[0m\u001b[0mdriver_command\u001b[0m\u001b[1;33m,\u001b[0m \u001b[0mparams\u001b[0m\u001b[1;33m)\u001b[0m\u001b[1;33m\u001b[0m\u001b[1;33m\u001b[0m\u001b[0m\n\u001b[0;32m    320\u001b[0m         \u001b[1;32mif\u001b[0m \u001b[0mresponse\u001b[0m\u001b[1;33m:\u001b[0m\u001b[1;33m\u001b[0m\u001b[1;33m\u001b[0m\u001b[0m\n\u001b[1;32m--> 321\u001b[1;33m             \u001b[0mself\u001b[0m\u001b[1;33m.\u001b[0m\u001b[0merror_handler\u001b[0m\u001b[1;33m.\u001b[0m\u001b[0mcheck_response\u001b[0m\u001b[1;33m(\u001b[0m\u001b[0mresponse\u001b[0m\u001b[1;33m)\u001b[0m\u001b[1;33m\u001b[0m\u001b[1;33m\u001b[0m\u001b[0m\n\u001b[0m\u001b[0;32m    322\u001b[0m             response['value'] = self._unwrap_value(\n\u001b[0;32m    323\u001b[0m                 response.get('value', None))\n",
      "\u001b[1;32m~\\Anaconda3\\lib\\site-packages\\selenium\\webdriver\\remote\\errorhandler.py\u001b[0m in \u001b[0;36mcheck_response\u001b[1;34m(self, response)\u001b[0m\n\u001b[0;32m    240\u001b[0m                 \u001b[0malert_text\u001b[0m \u001b[1;33m=\u001b[0m \u001b[0mvalue\u001b[0m\u001b[1;33m[\u001b[0m\u001b[1;34m'alert'\u001b[0m\u001b[1;33m]\u001b[0m\u001b[1;33m.\u001b[0m\u001b[0mget\u001b[0m\u001b[1;33m(\u001b[0m\u001b[1;34m'text'\u001b[0m\u001b[1;33m)\u001b[0m\u001b[1;33m\u001b[0m\u001b[1;33m\u001b[0m\u001b[0m\n\u001b[0;32m    241\u001b[0m             \u001b[1;32mraise\u001b[0m \u001b[0mexception_class\u001b[0m\u001b[1;33m(\u001b[0m\u001b[0mmessage\u001b[0m\u001b[1;33m,\u001b[0m \u001b[0mscreen\u001b[0m\u001b[1;33m,\u001b[0m \u001b[0mstacktrace\u001b[0m\u001b[1;33m,\u001b[0m \u001b[0malert_text\u001b[0m\u001b[1;33m)\u001b[0m\u001b[1;33m\u001b[0m\u001b[1;33m\u001b[0m\u001b[0m\n\u001b[1;32m--> 242\u001b[1;33m         \u001b[1;32mraise\u001b[0m \u001b[0mexception_class\u001b[0m\u001b[1;33m(\u001b[0m\u001b[0mmessage\u001b[0m\u001b[1;33m,\u001b[0m \u001b[0mscreen\u001b[0m\u001b[1;33m,\u001b[0m \u001b[0mstacktrace\u001b[0m\u001b[1;33m)\u001b[0m\u001b[1;33m\u001b[0m\u001b[1;33m\u001b[0m\u001b[0m\n\u001b[0m\u001b[0;32m    243\u001b[0m \u001b[1;33m\u001b[0m\u001b[0m\n\u001b[0;32m    244\u001b[0m     \u001b[1;32mdef\u001b[0m \u001b[0m_value_or_default\u001b[0m\u001b[1;33m(\u001b[0m\u001b[0mself\u001b[0m\u001b[1;33m,\u001b[0m \u001b[0mobj\u001b[0m\u001b[1;33m,\u001b[0m \u001b[0mkey\u001b[0m\u001b[1;33m,\u001b[0m \u001b[0mdefault\u001b[0m\u001b[1;33m)\u001b[0m\u001b[1;33m:\u001b[0m\u001b[1;33m\u001b[0m\u001b[1;33m\u001b[0m\u001b[0m\n",
      "\u001b[1;31mNoSuchWindowException\u001b[0m: Message: no such window: target window already closed\nfrom unknown error: web view not found\n  (Session info: chrome=94.0.4606.81)\n"
     ]
    }
   ],
   "source": [
    "# 메인페이지임 . 게시글이 있는\n",
    "print(driver.current_window_handle)"
   ]
  },
  {
   "cell_type": "code",
   "execution_count": 44,
   "metadata": {},
   "outputs": [
    {
     "name": "stdout",
     "output_type": "stream",
     "text": [
      "CDwindow-AC8BBEDB4F88D9C8A9BFEE310AD6F710\n"
     ]
    }
   ],
   "source": [
    "driver.switch_to.window(driver.window_handles[0])\n",
    "print(driver.current_window_handle)"
   ]
  },
  {
   "cell_type": "code",
   "execution_count": 40,
   "metadata": {},
   "outputs": [
    {
     "name": "stdout",
     "output_type": "stream",
     "text": [
      "CDwindow-C860F1E79D434DC28F3F911E683C6EBE\n"
     ]
    }
   ],
   "source": [
    "driver.switch_to.window(driver.window_handles[1])\n",
    "print(driver.current_window_handle)"
   ]
  },
  {
   "cell_type": "code",
   "execution_count": 41,
   "metadata": {},
   "outputs": [
    {
     "name": "stdout",
     "output_type": "stream",
     "text": [
      "CDwindow-19E0B7DFE7C62DDEBCB8BD4FFD4B97AA\n"
     ]
    }
   ],
   "source": [
    "driver.switch_to.window(driver.window_handles[2])\n",
    "print(driver.current_window_handle)"
   ]
  },
  {
   "cell_type": "code",
   "execution_count": 42,
   "metadata": {},
   "outputs": [],
   "source": [
    "driver.close()"
   ]
  },
  {
   "cell_type": "code",
   "execution_count": 21,
   "metadata": {},
   "outputs": [],
   "source": [
    "main_page = driver.current_window_handle"
   ]
  },
  {
   "cell_type": "code",
   "execution_count": 22,
   "metadata": {},
   "outputs": [
    {
     "data": {
      "text/plain": [
       "'CDwindow-098F78928332D1DDFD950D523CA8F02E'"
      ]
     },
     "execution_count": 22,
     "metadata": {},
     "output_type": "execute_result"
    }
   ],
   "source": [
    "main_page"
   ]
  },
  {
   "cell_type": "code",
   "execution_count": null,
   "metadata": {},
   "outputs": [],
   "source": [
    "\n",
    "driver.switch_to.window(driver.window_handles[0])\n",
    "time.sleep(1)\n",
    "\n",
    "driver.close()\n",
    "\n",
    "print(driver.window_handles)"
   ]
  },
  {
   "cell_type": "code",
   "execution_count": 34,
   "metadata": {},
   "outputs": [
    {
     "ename": "AttributeError",
     "evalue": "'NoneType' object has no attribute 'window_handles'",
     "output_type": "error",
     "traceback": [
      "\u001b[1;31m---------------------------------------------------------------------------\u001b[0m",
      "\u001b[1;31mAttributeError\u001b[0m                            Traceback (most recent call last)",
      "\u001b[1;32m<ipython-input-34-31a6efb01bd0>\u001b[0m in \u001b[0;36m<module>\u001b[1;34m\u001b[0m\n\u001b[0;32m      1\u001b[0m \u001b[0mlogin_page\u001b[0m \u001b[1;33m=\u001b[0m \u001b[1;34m''\u001b[0m\u001b[1;33m\u001b[0m\u001b[1;33m\u001b[0m\u001b[0m\n\u001b[1;32m----> 2\u001b[1;33m \u001b[1;32mfor\u001b[0m \u001b[0mhandle\u001b[0m \u001b[1;32min\u001b[0m \u001b[0mdriver\u001b[0m\u001b[1;33m.\u001b[0m\u001b[0mwindow_handles\u001b[0m\u001b[1;33m:\u001b[0m\u001b[1;33m\u001b[0m\u001b[1;33m\u001b[0m\u001b[0m\n\u001b[0m\u001b[0;32m      3\u001b[0m \u001b[1;33m\u001b[0m\u001b[0m\n\u001b[0;32m      4\u001b[0m     \u001b[1;32mif\u001b[0m \u001b[0mhandle\u001b[0m \u001b[1;33m!=\u001b[0m \u001b[0mmain_page\u001b[0m\u001b[1;33m:\u001b[0m\u001b[1;33m\u001b[0m\u001b[1;33m\u001b[0m\u001b[0m\n\u001b[0;32m      5\u001b[0m \u001b[1;33m\u001b[0m\u001b[0m\n",
      "\u001b[1;31mAttributeError\u001b[0m: 'NoneType' object has no attribute 'window_handles'"
     ]
    }
   ],
   "source": [
    "login_page = ''\n",
    "for handle in driver.window_handles:\n",
    "\n",
    "    if handle != main_page:\n",
    "\n",
    "        print(handle)\n",
    "\n",
    "        login_page = handle\n",
    "\n",
    "        break\n",
    "\n",
    "driver.switch_to.window(login_page)"
   ]
  },
  {
   "cell_type": "code",
   "execution_count": null,
   "metadata": {},
   "outputs": [],
   "source": [
    "next_page = driver."
   ]
  },
  {
   "cell_type": "code",
   "execution_count": 33,
   "metadata": {},
   "outputs": [
    {
     "ename": "AttributeError",
     "evalue": "'NoneType' object has no attribute 'switch_to'",
     "output_type": "error",
     "traceback": [
      "\u001b[1;31m---------------------------------------------------------------------------\u001b[0m",
      "\u001b[1;31mAttributeError\u001b[0m                            Traceback (most recent call last)",
      "\u001b[1;32m<ipython-input-33-743e5958556d>\u001b[0m in \u001b[0;36m<module>\u001b[1;34m\u001b[0m\n\u001b[1;32m----> 1\u001b[1;33m \u001b[0mdirver\u001b[0m \u001b[1;33m=\u001b[0m \u001b[0mdriver\u001b[0m\u001b[1;33m.\u001b[0m\u001b[0mswitch_to\u001b[0m\u001b[1;33m.\u001b[0m\u001b[0mwindow\u001b[0m\u001b[1;33m(\u001b[0m\u001b[0mdriver\u001b[0m\u001b[1;33m.\u001b[0m\u001b[0mwindow_handles\u001b[0m\u001b[1;33m[\u001b[0m\u001b[1;36m1\u001b[0m\u001b[1;33m]\u001b[0m\u001b[1;33m)\u001b[0m\u001b[1;33m\u001b[0m\u001b[1;33m\u001b[0m\u001b[0m\n\u001b[0m",
      "\u001b[1;31mAttributeError\u001b[0m: 'NoneType' object has no attribute 'switch_to'"
     ]
    }
   ],
   "source": [
    "dirver = driver.switch_to.window(driver.window_handles[1])"
   ]
  },
  {
   "cell_type": "code",
   "execution_count": 32,
   "metadata": {},
   "outputs": [
    {
     "ename": "AttributeError",
     "evalue": "'NoneType' object has no attribute 'find_element_by_id'",
     "output_type": "error",
     "traceback": [
      "\u001b[1;31m---------------------------------------------------------------------------\u001b[0m",
      "\u001b[1;31mAttributeError\u001b[0m                            Traceback (most recent call last)",
      "\u001b[1;32m<ipython-input-32-3020e16af807>\u001b[0m in \u001b[0;36m<module>\u001b[1;34m\u001b[0m\n\u001b[1;32m----> 1\u001b[1;33m \u001b[0mreviewbox\u001b[0m \u001b[1;33m=\u001b[0m \u001b[0mdriver\u001b[0m\u001b[1;33m.\u001b[0m\u001b[0mfind_element_by_id\u001b[0m\u001b[1;33m(\u001b[0m\u001b[1;34m\"innerReviewDiv\"\u001b[0m\u001b[1;33m)\u001b[0m\u001b[1;33m\u001b[0m\u001b[1;33m\u001b[0m\u001b[0m\n\u001b[0m\u001b[0;32m      2\u001b[0m \u001b[0mreviews\u001b[0m \u001b[1;33m=\u001b[0m \u001b[0mreviewbox\u001b[0m\u001b[1;33m.\u001b[0m\u001b[0mfind_elements_by_css_selector\u001b[0m\u001b[1;33m(\u001b[0m\u001b[1;34m\"#innerReviewDiv > ul > li:nth-child(1)\"\u001b[0m\u001b[1;33m)\u001b[0m\u001b[1;33m\u001b[0m\u001b[1;33m\u001b[0m\u001b[0m\n\u001b[0;32m      3\u001b[0m \u001b[0mreviews\u001b[0m\u001b[1;33m[\u001b[0m\u001b[1;36m0\u001b[0m\u001b[1;33m]\u001b[0m\u001b[1;33m.\u001b[0m\u001b[0mtext\u001b[0m\u001b[1;33m\u001b[0m\u001b[1;33m\u001b[0m\u001b[0m\n",
      "\u001b[1;31mAttributeError\u001b[0m: 'NoneType' object has no attribute 'find_element_by_id'"
     ]
    }
   ],
   "source": [
    "reviewbox = driver.find_element_by_id(\"innerReviewDiv\")\n",
    "reviews = reviewbox.find_elements_by_css_selector(\"#innerReviewDiv > ul > li:nth-child(1)\")\n",
    "reviews[0].text"
   ]
  },
  {
   "cell_type": "code",
   "execution_count": 19,
   "metadata": {},
   "outputs": [
    {
     "name": "stdout",
     "output_type": "stream",
     "text": [
      "<selenium.webdriver.chrome.webdriver.WebDriver (session=\"9ee0cb1125cd74e240456649e44781d0\")>\n"
     ]
    }
   ],
   "source": [
    "print(driver)"
   ]
  },
  {
   "cell_type": "code",
   "execution_count": 31,
   "metadata": {},
   "outputs": [],
   "source": [
    "driver = driver.switch_to.window(driver.window_handles[-1])"
   ]
  },
  {
   "cell_type": "code",
   "execution_count": 11,
   "metadata": {},
   "outputs": [
    {
     "ename": "AttributeError",
     "evalue": "'NoneType' object has no attribute 'switch_to'",
     "output_type": "error",
     "traceback": [
      "\u001b[1;31m---------------------------------------------------------------------------\u001b[0m",
      "\u001b[1;31mAttributeError\u001b[0m                            Traceback (most recent call last)",
      "\u001b[1;32m<ipython-input-11-74076ae84324>\u001b[0m in \u001b[0;36m<module>\u001b[1;34m\u001b[0m\n\u001b[1;32m----> 1\u001b[1;33m \u001b[0mdirver\u001b[0m \u001b[1;33m=\u001b[0m \u001b[0mdriver\u001b[0m\u001b[1;33m.\u001b[0m\u001b[0mswitch_to\u001b[0m\u001b[1;33m.\u001b[0m\u001b[0mwindow\u001b[0m\u001b[1;33m(\u001b[0m\u001b[0mdriver\u001b[0m\u001b[1;33m.\u001b[0m\u001b[0mwindow_handles\u001b[0m\u001b[1;33m[\u001b[0m\u001b[1;36m1\u001b[0m\u001b[1;33m]\u001b[0m\u001b[1;33m)\u001b[0m\u001b[1;33m\u001b[0m\u001b[1;33m\u001b[0m\u001b[0m\n\u001b[0m\u001b[0;32m      2\u001b[0m \u001b[0mdriver\u001b[0m\u001b[1;33m.\u001b[0m\u001b[0mclose\u001b[0m\u001b[1;33m(\u001b[0m\u001b[1;33m)\u001b[0m\u001b[1;33m\u001b[0m\u001b[1;33m\u001b[0m\u001b[0m\n\u001b[0;32m      3\u001b[0m \u001b[0mdriver\u001b[0m \u001b[1;33m=\u001b[0m \u001b[0mdriver\u001b[0m\u001b[1;33m.\u001b[0m\u001b[0mswitch_to\u001b[0m\u001b[1;33m.\u001b[0m\u001b[0mwindow\u001b[0m\u001b[1;33m(\u001b[0m\u001b[0mdriver\u001b[0m\u001b[1;33m.\u001b[0m\u001b[0mwindow_handles\u001b[0m\u001b[1;33m[\u001b[0m\u001b[1;36m0\u001b[0m\u001b[1;33m]\u001b[0m\u001b[1;33m)\u001b[0m\u001b[1;33m\u001b[0m\u001b[1;33m\u001b[0m\u001b[0m\n",
      "\u001b[1;31mAttributeError\u001b[0m: 'NoneType' object has no attribute 'switch_to'"
     ]
    }
   ],
   "source": [
    "dirver = driver.switch_to.window(driver.window_handles[1])\n",
    "driver.close() \n",
    "driver = driver.switch_to.window(driver.window_handles[0])"
   ]
  },
  {
   "cell_type": "code",
   "execution_count": null,
   "metadata": {},
   "outputs": [],
   "source": [
    "driver.find_element"
   ]
  },
  {
   "cell_type": "code",
   "execution_count": null,
   "metadata": {},
   "outputs": [],
   "source": [
    "for i in range(len())"
   ]
  },
  {
   "cell_type": "code",
   "execution_count": 27,
   "metadata": {},
   "outputs": [
    {
     "ename": "AttributeError",
     "evalue": "'NoneType' object has no attribute 'close'",
     "output_type": "error",
     "traceback": [
      "\u001b[1;31m---------------------------------------------------------------------------\u001b[0m",
      "\u001b[1;31mAttributeError\u001b[0m                            Traceback (most recent call last)",
      "\u001b[1;32m<ipython-input-27-ad0c9a213c39>\u001b[0m in \u001b[0;36m<module>\u001b[1;34m\u001b[0m\n\u001b[1;32m----> 1\u001b[1;33m \u001b[0mdriver\u001b[0m\u001b[1;33m.\u001b[0m\u001b[0mclose\u001b[0m\u001b[1;33m(\u001b[0m\u001b[1;33m)\u001b[0m\u001b[1;33m\u001b[0m\u001b[1;33m\u001b[0m\u001b[0m\n\u001b[0m",
      "\u001b[1;31mAttributeError\u001b[0m: 'NoneType' object has no attribute 'close'"
     ]
    }
   ],
   "source": [
    "driver.close()"
   ]
  },
  {
   "cell_type": "code",
   "execution_count": 26,
   "metadata": {},
   "outputs": [
    {
     "ename": "AttributeError",
     "evalue": "'NoneType' object has no attribute 'find_element_by_css_selector'",
     "output_type": "error",
     "traceback": [
      "\u001b[1;31m---------------------------------------------------------------------------\u001b[0m",
      "\u001b[1;31mAttributeError\u001b[0m                            Traceback (most recent call last)",
      "\u001b[1;32m<ipython-input-26-cbf2c5b587b7>\u001b[0m in \u001b[0;36m<module>\u001b[1;34m\u001b[0m\n\u001b[1;32m----> 1\u001b[1;33m \u001b[0ma\u001b[0m \u001b[1;33m=\u001b[0m \u001b[0mdriver\u001b[0m\u001b[1;33m.\u001b[0m\u001b[0mfind_element_by_css_selector\u001b[0m\u001b[1;33m(\u001b[0m\u001b[1;34m\"##top-space > div > div:nth-child(1)\"\u001b[0m\u001b[1;33m)\u001b[0m\u001b[1;33m\u001b[0m\u001b[1;33m\u001b[0m\u001b[0m\n\u001b[0m\u001b[0;32m      2\u001b[0m \u001b[0mb\u001b[0m \u001b[1;33m=\u001b[0m \u001b[0ma\u001b[0m\u001b[1;33m.\u001b[0m\u001b[0mfind_elements_by_tag_names\u001b[0m\u001b[1;33m(\u001b[0m\u001b[1;34m\"div\"\u001b[0m\u001b[1;33m)\u001b[0m\u001b[1;33m\u001b[0m\u001b[1;33m\u001b[0m\u001b[0m\n\u001b[0;32m      3\u001b[0m \u001b[0mlen\u001b[0m\u001b[1;33m(\u001b[0m\u001b[0mb\u001b[0m\u001b[1;33m)\u001b[0m\u001b[1;33m\u001b[0m\u001b[1;33m\u001b[0m\u001b[0m\n",
      "\u001b[1;31mAttributeError\u001b[0m: 'NoneType' object has no attribute 'find_element_by_css_selector'"
     ]
    }
   ],
   "source": [
    "a = driver.find_element_by_css_selector(\"##top-space > div > div:nth-child(1)\")\n",
    "b = a.find_elements_by_tag_names(\"div\")\n",
    "len(b)"
   ]
  }
 ],
 "metadata": {
  "kernelspec": {
   "display_name": "Python 3",
   "language": "python",
   "name": "python3"
  },
  "language_info": {
   "codemirror_mode": {
    "name": "ipython",
    "version": 3
   },
   "file_extension": ".py",
   "mimetype": "text/x-python",
   "name": "python",
   "nbconvert_exporter": "python",
   "pygments_lexer": "ipython3",
   "version": "3.7.4"
  }
 },
 "nbformat": 4,
 "nbformat_minor": 2
}
