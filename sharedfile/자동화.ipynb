{
 "cells": [
  {
   "cell_type": "markdown",
   "id": "b6e8c8c2",
   "metadata": {},
   "source": [
    "### 구름자동화(카테고리, 수강후기 제외)"
   ]
  },
  {
   "cell_type": "code",
   "execution_count": 27,
   "id": "f31d099c",
   "metadata": {},
   "outputs": [],
   "source": [
    "title_list = []\n",
    "price_list = []\n",
    "teacher_list = []\n",
    "rating_list = []\n",
    "url_list = []"
   ]
  },
  {
   "cell_type": "code",
   "execution_count": 28,
   "id": "8c4f8380",
   "metadata": {},
   "outputs": [],
   "source": [
    "from selenium import webdriver as wb\n",
    "from selenium.webdriver.common.keys import Keys\n",
    "from bs4 import BeautifulSoup as bs\n",
    "import pandas as pd\n",
    "import time\n",
    "for i in range(1,21):\n",
    "    url1 = \"https://edu.goorm.io/category/programming?page=\"+str(i)+\"&sort=newest\"\n",
    "    driver = wb.Chrome()\n",
    "    driver.get(url1)\n",
    "    soup = bs(driver.page_source,\"lxml\")\n",
    "    time.sleep(1)\n",
    "    price = soup.select(\"div.RfUd-z._1AV9t8.card-footer > div > span._3vh60A\")\n",
    "    title = soup.select(\"div > div.obzTi8 > div.kV2LiJ\")\n",
    "    teacher = soup.select('._3SzRPA > .xaJHLa')\n",
    "    rating = soup.select('._2KWt9f._3SwFuE')\n",
    "    url = soup.select(\"._1xnzzp\")\n",
    "    time.sleep(1)\n",
    "    \n",
    "    for i in range(len(title)):\n",
    "        title_list.append(title[i].text)\n",
    "        price_list.append(price[i].text)\n",
    "        teacher_list.append(teacher[i].text)\n",
    "        rating_list.append(rating[i].text)\n",
    "        url_list.append('https://edu.goorm.io'+url[i]['href'])\n",
    "    time.sleep(1)"
   ]
  },
  {
   "cell_type": "code",
   "execution_count": 26,
   "id": "274b74a0",
   "metadata": {},
   "outputs": [
    {
     "name": "stdout",
     "output_type": "stream",
     "text": [
      "리눅스 쉘 스크립트 마스터\n",
      "https://edu.goorm.io/lecture/23901/애플-공식-교재-ios-앱-만들기-입문\n"
     ]
    }
   ],
   "source": [
    "print(title_list[100])\n",
    "print(url_list[100])"
   ]
  },
  {
   "cell_type": "code",
   "execution_count": 29,
   "id": "cf3aa756",
   "metadata": {
    "scrolled": true
   },
   "outputs": [
    {
     "name": "stdout",
     "output_type": "stream",
     "text": [
      "392\n",
      "392\n",
      "392\n",
      "392\n",
      "392\n"
     ]
    }
   ],
   "source": [
    "print(len(title_list))\n",
    "print(len(price_list))\n",
    "print(len(teacher_list))\n",
    "print(len(rating_list))\n",
    "print(len(url_list))"
   ]
  },
  {
   "cell_type": "code",
   "execution_count": 30,
   "id": "24171b08",
   "metadata": {},
   "outputs": [
    {
     "data": {
      "text/html": [
       "<div>\n",
       "<style scoped>\n",
       "    .dataframe tbody tr th:only-of-type {\n",
       "        vertical-align: middle;\n",
       "    }\n",
       "\n",
       "    .dataframe tbody tr th {\n",
       "        vertical-align: top;\n",
       "    }\n",
       "\n",
       "    .dataframe thead th {\n",
       "        text-align: right;\n",
       "    }\n",
       "</style>\n",
       "<table border=\"1\" class=\"dataframe\">\n",
       "  <thead>\n",
       "    <tr style=\"text-align: right;\">\n",
       "      <th></th>\n",
       "      <th>제목</th>\n",
       "      <th>가격</th>\n",
       "      <th>강사</th>\n",
       "      <th>평점</th>\n",
       "      <th>URL</th>\n",
       "    </tr>\n",
       "  </thead>\n",
       "  <tbody>\n",
       "    <tr>\n",
       "      <th>0</th>\n",
       "      <td>HTML5 &amp; CSS3 기초 문법 올인원</td>\n",
       "      <td>무료</td>\n",
       "      <td>개발자 이도해</td>\n",
       "      <td>5.0</td>\n",
       "      <td>https://edu.goorm.io/lecture/28488/html5-css3-...</td>\n",
       "    </tr>\n",
       "    <tr>\n",
       "      <th>1</th>\n",
       "      <td>컴퓨터 GUI 앱을 만들면서 tkinter 배우기</td>\n",
       "      <td>무료</td>\n",
       "      <td>행보칸코딩</td>\n",
       "      <td>5.0</td>\n",
       "      <td>https://edu.goorm.io/lecture/28428/컴퓨터-gui-앱을-...</td>\n",
       "    </tr>\n",
       "    <tr>\n",
       "      <th>2</th>\n",
       "      <td>[하루10분|Web-App] 생애최초 웹프레임워크 Ruby on Rails</td>\n",
       "      <td>무료</td>\n",
       "      <td>판다코딩</td>\n",
       "      <td>5.0</td>\n",
       "      <td>https://edu.goorm.io/lecture/28494/하루10분-web-a...</td>\n",
       "    </tr>\n",
       "    <tr>\n",
       "      <th>3</th>\n",
       "      <td>실전!웹사이트제작 Step By Step! (Basic 강좌 : 쌩초보 코스)</td>\n",
       "      <td>₩10,000</td>\n",
       "      <td>J.young</td>\n",
       "      <td>0.0</td>\n",
       "      <td>https://edu.goorm.io/lecture/28099/실전-웹사이트제작-s...</td>\n",
       "    </tr>\n",
       "    <tr>\n",
       "      <th>4</th>\n",
       "      <td>실전!웹사이트제작 Step By Step! (클론코딩 : 포메인사이트제작 - 풀페이지)</td>\n",
       "      <td>₩28,000</td>\n",
       "      <td>J.young</td>\n",
       "      <td>0.0</td>\n",
       "      <td>https://edu.goorm.io/lecture/28100/실전-웹사이트제작-s...</td>\n",
       "    </tr>\n",
       "    <tr>\n",
       "      <th>...</th>\n",
       "      <td>...</td>\n",
       "      <td>...</td>\n",
       "      <td>...</td>\n",
       "      <td>...</td>\n",
       "      <td>...</td>\n",
       "    </tr>\n",
       "    <tr>\n",
       "      <th>387</th>\n",
       "      <td>제1회 구름코드챌린지(GCC) 기출 문제</td>\n",
       "      <td>무료</td>\n",
       "      <td>구름</td>\n",
       "      <td>3.0</td>\n",
       "      <td>https://edu.goorm.io/lecture/790/제1회-구름코드챌린지-g...</td>\n",
       "    </tr>\n",
       "    <tr>\n",
       "      <th>388</th>\n",
       "      <td>[바로실습] 생활코딩 - 파이썬(Python)</td>\n",
       "      <td>무료</td>\n",
       "      <td>생활코딩</td>\n",
       "      <td>4.8</td>\n",
       "      <td>https://edu.goorm.io/lecture/44/바로실습-생활코딩-파이썬-...</td>\n",
       "    </tr>\n",
       "    <tr>\n",
       "      <th>389</th>\n",
       "      <td>한 눈에 끝내는 아두이노 기초</td>\n",
       "      <td>무료</td>\n",
       "      <td>구름</td>\n",
       "      <td>4.5</td>\n",
       "      <td>https://edu.goorm.io/lecture/203/한-눈에-끝내는-아두이노-기초</td>\n",
       "    </tr>\n",
       "    <tr>\n",
       "      <th>390</th>\n",
       "      <td>10주 완성 알고리즘 코딩테스트</td>\n",
       "      <td>₩200,000</td>\n",
       "      <td>코딩몬스터</td>\n",
       "      <td>4.5</td>\n",
       "      <td>https://edu.goorm.io/lecture/554/10주-완성-알고리즘-코...</td>\n",
       "    </tr>\n",
       "    <tr>\n",
       "      <th>391</th>\n",
       "      <td>한 눈에 끝내는 C언어 기초</td>\n",
       "      <td>무료</td>\n",
       "      <td>구름</td>\n",
       "      <td>4.9</td>\n",
       "      <td>https://edu.goorm.io/lecture/201/한-눈에-끝내는-c언어-기초</td>\n",
       "    </tr>\n",
       "  </tbody>\n",
       "</table>\n",
       "<p>392 rows × 5 columns</p>\n",
       "</div>"
      ],
      "text/plain": [
       "                                                   제목        가격       강사   평점  \\\n",
       "0                              HTML5 & CSS3 기초 문법 올인원        무료  개발자 이도해  5.0   \n",
       "1                         컴퓨터 GUI 앱을 만들면서 tkinter 배우기        무료    행보칸코딩  5.0   \n",
       "2           [하루10분|Web-App] 생애최초 웹프레임워크 Ruby on Rails        무료     판다코딩  5.0   \n",
       "3         실전!웹사이트제작 Step By Step! (Basic 강좌 : 쌩초보 코스)   ₩10,000  J.young  0.0   \n",
       "4    실전!웹사이트제작 Step By Step! (클론코딩 : 포메인사이트제작 - 풀페이지)   ₩28,000  J.young  0.0   \n",
       "..                                                ...       ...      ...  ...   \n",
       "387                            제1회 구름코드챌린지(GCC) 기출 문제        무료       구름  3.0   \n",
       "388                         [바로실습] 생활코딩 - 파이썬(Python)        무료     생활코딩  4.8   \n",
       "389                                  한 눈에 끝내는 아두이노 기초        무료       구름  4.5   \n",
       "390                                 10주 완성 알고리즘 코딩테스트  ₩200,000    코딩몬스터  4.5   \n",
       "391                                   한 눈에 끝내는 C언어 기초        무료       구름  4.9   \n",
       "\n",
       "                                                   URL  \n",
       "0    https://edu.goorm.io/lecture/28488/html5-css3-...  \n",
       "1    https://edu.goorm.io/lecture/28428/컴퓨터-gui-앱을-...  \n",
       "2    https://edu.goorm.io/lecture/28494/하루10분-web-a...  \n",
       "3    https://edu.goorm.io/lecture/28099/실전-웹사이트제작-s...  \n",
       "4    https://edu.goorm.io/lecture/28100/실전-웹사이트제작-s...  \n",
       "..                                                 ...  \n",
       "387  https://edu.goorm.io/lecture/790/제1회-구름코드챌린지-g...  \n",
       "388  https://edu.goorm.io/lecture/44/바로실습-생활코딩-파이썬-...  \n",
       "389  https://edu.goorm.io/lecture/203/한-눈에-끝내는-아두이노-기초  \n",
       "390  https://edu.goorm.io/lecture/554/10주-완성-알고리즘-코...  \n",
       "391   https://edu.goorm.io/lecture/201/한-눈에-끝내는-c언어-기초  \n",
       "\n",
       "[392 rows x 5 columns]"
      ]
     },
     "execution_count": 30,
     "metadata": {},
     "output_type": "execute_result"
    }
   ],
   "source": [
    "dic = {'제목':title_list, '가격':price_list, '강사':teacher_list, '평점': rating_list, 'URL': url_list}\n",
    "df = pd.DataFrame(dic)\n",
    "df"
   ]
  },
  {
   "cell_type": "code",
   "execution_count": 31,
   "id": "094c8fce",
   "metadata": {},
   "outputs": [],
   "source": [
    "df.to_csv(\"구름edu.csv\", encoding=\"utf-8-sig\")"
   ]
  },
  {
   "cell_type": "code",
   "execution_count": null,
   "id": "4766ff0a",
   "metadata": {},
   "outputs": [],
   "source": []
  }
 ],
 "metadata": {
  "kernelspec": {
   "display_name": "Python 3",
   "language": "python",
   "name": "python3"
  },
  "language_info": {
   "codemirror_mode": {
    "name": "ipython",
    "version": 3
   },
   "file_extension": ".py",
   "mimetype": "text/x-python",
   "name": "python",
   "nbconvert_exporter": "python",
   "pygments_lexer": "ipython3",
   "version": "3.8.8"
  }
 },
 "nbformat": 4,
 "nbformat_minor": 5
}
