{
 "cells": [
  {
   "cell_type": "code",
   "execution_count": 1,
   "metadata": {},
   "outputs": [],
   "source": [
    "from selenium import webdriver as wb\n",
    "from selenium.webdriver.common.action_chains import ActionChains\n",
    "from selenium.webdriver import ChromeOptions\n",
    "\n",
    "from selenium.webdriver.common.keys import Keys\n",
    "from bs4 import BeautifulSoup as bs\n",
    "import time\n",
    "from tqdm.notebook import tqdm\n",
    "import pandas as pd"
   ]
  },
  {
   "cell_type": "markdown",
   "metadata": {},
   "source": [
    "# 첫 번째 페이지까지 들어가기"
   ]
  },
  {
   "cell_type": "code",
   "execution_count": 26,
   "metadata": {},
   "outputs": [],
   "source": [
    "# 탈잉 메인페이지 접속\n",
    "\n",
    "options = ChromeOptions()\n",
    "options.add_argument(\"--start-maximized\")\n",
    "driver = wb.Chrome(options=options)\n",
    "time.sleep(1)\n",
    "url = \"https://taling.me/\"\n",
    "driver.get(url)\n",
    "time.sleep(1)\n",
    "\n",
    "\n",
    "# 팝업창 닫기\n",
    "driver.find_element_by_css_selector(\"#layerPop > div > div > button:nth-child(3)\").click()\n",
    "time.sleep(1)\n",
    "\n",
    "# 전체 카테고리 클릭\n",
    "driver.find_element_by_css_selector(\"#header > div > div.category > button\").click()\n",
    "time.sleep(1)\n",
    "\n",
    "# 커리어 > 엑셀 / 피피티 / 데이터분석 / 웹개발 / 앱개발 / 컴퓨터공학\n",
    "# 1) 엑셀\n",
    "        #menuList > table > tbody > tr:nth-child(7) > td > a:nth-child(4)\n",
    "# 2) 피피티\n",
    "        #menuList > table > tbody > tr:nth-child(7) > td > a:nth-child(5)\n",
    "# 3) 데이터분석\n",
    "        #menuList > table > tbody > tr:nth-child(7) > td > a:nth-child(7)\n",
    "# 4) 웹개발\n",
    "        #menuList > table > tbody > tr:nth-child(7) > td > a:nth-child(8)\n",
    "# 5) 앱개발\n",
    "        #menuList > table > tbody > tr:nth-child(7) > td > a:nth-child(9)\n",
    "# 6) 컴퓨터공학\n",
    "        #menuList > table > tbody > tr:nth-child(7) > td > a:nth-child(10)\n",
    "    \n",
    "\n",
    "# 일단 4번 웹개발부터 시작해보자\n",
    "driver.find_element_by_css_selector(\"#menuList > table > tbody > tr:nth-child(7) > td > a:nth-child(8)\").click()\n",
    "time.sleep(1)"
   ]
  },
  {
   "cell_type": "markdown",
   "metadata": {},
   "source": [
    "# driver 창 옮기기"
   ]
  },
  {
   "cell_type": "markdown",
   "metadata": {},
   "source": [
    "### n번째 게시글 클릭"
   ]
  },
  {
   "cell_type": "code",
   "execution_count": 3,
   "metadata": {},
   "outputs": [],
   "source": [
    "driver.find_element_by_css_selector(\"#top-space > div > div:nth-child(1)\").click()"
   ]
  },
  {
   "cell_type": "code",
   "execution_count": 4,
   "metadata": {},
   "outputs": [],
   "source": [
    "driver.find_element_by_css_selector(\"#top-space > div > div:nth-child(2)\").click()"
   ]
  },
  {
   "cell_type": "code",
   "execution_count": 5,
   "metadata": {},
   "outputs": [],
   "source": [
    "driver.find_element_by_css_selector(\"#top-space > div > div:nth-child(3)\").click()"
   ]
  },
  {
   "cell_type": "markdown",
   "metadata": {},
   "source": [
    "### ↑ 탭만 열렸지. driver는 지금 첫번째에 있음"
   ]
  },
  {
   "cell_type": "code",
   "execution_count": 6,
   "metadata": {},
   "outputs": [
    {
     "name": "stdout",
     "output_type": "stream",
     "text": [
      "CDwindow-6D9A73CFA9548B4E3903F7EB385E2171\n"
     ]
    }
   ],
   "source": [
    "# 메인페이지임 . 게시글이 있는\n",
    "print(driver.current_window_handle)"
   ]
  },
  {
   "cell_type": "code",
   "execution_count": 7,
   "metadata": {},
   "outputs": [
    {
     "name": "stdout",
     "output_type": "stream",
     "text": [
      "CDwindow-6D9A73CFA9548B4E3903F7EB385E2171\n",
      "CDwindow-68CD5E438B3E8525D7C4C97AF7947AF9\n",
      "CDwindow-1843537278E2AD4F30F6D3971E354C30\n",
      "CDwindow-C7E18A45E6C94F41DC86A9F4B253DB8D\n"
     ]
    }
   ],
   "source": [
    "driver.switch_to.window(driver.window_handles[0]) # -> 메인 탭\n",
    "print(driver.current_window_handle)\n",
    "\n",
    "driver.switch_to.window(driver.window_handles[1]) # -> 마지막 탭\n",
    "print(driver.current_window_handle)\n",
    "\n",
    "driver.switch_to.window(driver.window_handles[2]) # -> 마지막 왼쪽 탭\n",
    "print(driver.current_window_handle)\n",
    "\n",
    "driver.switch_to.window(driver.window_handles[3]) # -> 메인 오른쪽 탭\n",
    "print(driver.current_window_handle)"
   ]
  },
  {
   "cell_type": "code",
   "execution_count": 17,
   "metadata": {},
   "outputs": [
    {
     "name": "stdout",
     "output_type": "stream",
     "text": [
      "CDwindow-68CD5E438B3E8525D7C4C97AF7947AF9\n"
     ]
    }
   ],
   "source": [
    "driver.switch_to.window(driver.window_handles[1])\n",
    "print(driver.current_window_handle)"
   ]
  },
  {
   "cell_type": "code",
   "execution_count": 42,
   "metadata": {},
   "outputs": [],
   "source": [
    "driver.close()"
   ]
  },
  {
   "cell_type": "code",
   "execution_count": 13,
   "metadata": {},
   "outputs": [],
   "source": [
    "main_page = driver.current_window_handle"
   ]
  },
  {
   "cell_type": "code",
   "execution_count": 14,
   "metadata": {},
   "outputs": [
    {
     "data": {
      "text/plain": [
       "'CDwindow-6D9A73CFA9548B4E3903F7EB385E2171'"
      ]
     },
     "execution_count": 14,
     "metadata": {},
     "output_type": "execute_result"
    }
   ],
   "source": [
    "main_page"
   ]
  },
  {
   "cell_type": "code",
   "execution_count": 20,
   "metadata": {},
   "outputs": [],
   "source": [
    "driver.switch_to.window(main_page)"
   ]
  },
  {
   "cell_type": "markdown",
   "metadata": {},
   "source": [
    "# 생각해보자\n",
    "\n",
    "# 메인페이지를 애초에 저장해두고. 어차피 한 탭만 킬 거라서"
   ]
  },
  {
   "cell_type": "code",
   "execution_count": 61,
   "metadata": {},
   "outputs": [
    {
     "ename": "NoSuchWindowException",
     "evalue": "Message: no such window: target window already closed\nfrom unknown error: web view not found\n  (Session info: chrome=94.0.4606.81)\n",
     "output_type": "error",
     "traceback": [
      "\u001b[1;31m---------------------------------------------------------------------------\u001b[0m",
      "\u001b[1;31mNoSuchWindowException\u001b[0m                     Traceback (most recent call last)",
      "\u001b[1;32m~\\Anaconda3\\lib\\site-packages\\selenium\\webdriver\\remote\\switch_to.py\u001b[0m in \u001b[0;36m_w3c_window\u001b[1;34m(self, window_name)\u001b[0m\n\u001b[0;32m    122\u001b[0m             \u001b[1;31m# Try using it as a handle first.\u001b[0m\u001b[1;33m\u001b[0m\u001b[1;33m\u001b[0m\u001b[1;33m\u001b[0m\u001b[0m\n\u001b[1;32m--> 123\u001b[1;33m             \u001b[0msend_handle\u001b[0m\u001b[1;33m(\u001b[0m\u001b[0mwindow_name\u001b[0m\u001b[1;33m)\u001b[0m\u001b[1;33m\u001b[0m\u001b[1;33m\u001b[0m\u001b[0m\n\u001b[0m\u001b[0;32m    124\u001b[0m         \u001b[1;32mexcept\u001b[0m \u001b[0mNoSuchWindowException\u001b[0m \u001b[1;32mas\u001b[0m \u001b[0me\u001b[0m\u001b[1;33m:\u001b[0m\u001b[1;33m\u001b[0m\u001b[1;33m\u001b[0m\u001b[0m\n",
      "\u001b[1;32m~\\Anaconda3\\lib\\site-packages\\selenium\\webdriver\\remote\\switch_to.py\u001b[0m in \u001b[0;36msend_handle\u001b[1;34m(h)\u001b[0m\n\u001b[0;32m    118\u001b[0m         \u001b[1;32mdef\u001b[0m \u001b[0msend_handle\u001b[0m\u001b[1;33m(\u001b[0m\u001b[0mh\u001b[0m\u001b[1;33m)\u001b[0m\u001b[1;33m:\u001b[0m\u001b[1;33m\u001b[0m\u001b[1;33m\u001b[0m\u001b[0m\n\u001b[1;32m--> 119\u001b[1;33m             \u001b[0mself\u001b[0m\u001b[1;33m.\u001b[0m\u001b[0m_driver\u001b[0m\u001b[1;33m.\u001b[0m\u001b[0mexecute\u001b[0m\u001b[1;33m(\u001b[0m\u001b[0mCommand\u001b[0m\u001b[1;33m.\u001b[0m\u001b[0mSWITCH_TO_WINDOW\u001b[0m\u001b[1;33m,\u001b[0m \u001b[1;33m{\u001b[0m\u001b[1;34m'handle'\u001b[0m\u001b[1;33m:\u001b[0m \u001b[0mh\u001b[0m\u001b[1;33m}\u001b[0m\u001b[1;33m)\u001b[0m\u001b[1;33m\u001b[0m\u001b[1;33m\u001b[0m\u001b[0m\n\u001b[0m\u001b[0;32m    120\u001b[0m \u001b[1;33m\u001b[0m\u001b[0m\n",
      "\u001b[1;32m~\\Anaconda3\\lib\\site-packages\\selenium\\webdriver\\remote\\webdriver.py\u001b[0m in \u001b[0;36mexecute\u001b[1;34m(self, driver_command, params)\u001b[0m\n\u001b[0;32m    320\u001b[0m         \u001b[1;32mif\u001b[0m \u001b[0mresponse\u001b[0m\u001b[1;33m:\u001b[0m\u001b[1;33m\u001b[0m\u001b[1;33m\u001b[0m\u001b[0m\n\u001b[1;32m--> 321\u001b[1;33m             \u001b[0mself\u001b[0m\u001b[1;33m.\u001b[0m\u001b[0merror_handler\u001b[0m\u001b[1;33m.\u001b[0m\u001b[0mcheck_response\u001b[0m\u001b[1;33m(\u001b[0m\u001b[0mresponse\u001b[0m\u001b[1;33m)\u001b[0m\u001b[1;33m\u001b[0m\u001b[1;33m\u001b[0m\u001b[0m\n\u001b[0m\u001b[0;32m    322\u001b[0m             response['value'] = self._unwrap_value(\n",
      "\u001b[1;32m~\\Anaconda3\\lib\\site-packages\\selenium\\webdriver\\remote\\errorhandler.py\u001b[0m in \u001b[0;36mcheck_response\u001b[1;34m(self, response)\u001b[0m\n\u001b[0;32m    241\u001b[0m             \u001b[1;32mraise\u001b[0m \u001b[0mexception_class\u001b[0m\u001b[1;33m(\u001b[0m\u001b[0mmessage\u001b[0m\u001b[1;33m,\u001b[0m \u001b[0mscreen\u001b[0m\u001b[1;33m,\u001b[0m \u001b[0mstacktrace\u001b[0m\u001b[1;33m,\u001b[0m \u001b[0malert_text\u001b[0m\u001b[1;33m)\u001b[0m\u001b[1;33m\u001b[0m\u001b[1;33m\u001b[0m\u001b[0m\n\u001b[1;32m--> 242\u001b[1;33m         \u001b[1;32mraise\u001b[0m \u001b[0mexception_class\u001b[0m\u001b[1;33m(\u001b[0m\u001b[0mmessage\u001b[0m\u001b[1;33m,\u001b[0m \u001b[0mscreen\u001b[0m\u001b[1;33m,\u001b[0m \u001b[0mstacktrace\u001b[0m\u001b[1;33m)\u001b[0m\u001b[1;33m\u001b[0m\u001b[1;33m\u001b[0m\u001b[0m\n\u001b[0m\u001b[0;32m    243\u001b[0m \u001b[1;33m\u001b[0m\u001b[0m\n",
      "\u001b[1;31mNoSuchWindowException\u001b[0m: Message: no such window\n  (Session info: chrome=94.0.4606.81)\n",
      "\nDuring handling of the above exception, another exception occurred:\n",
      "\u001b[1;31mNoSuchWindowException\u001b[0m                     Traceback (most recent call last)",
      "\u001b[1;32m<ipython-input-61-f1e710968a6a>\u001b[0m in \u001b[0;36m<module>\u001b[1;34m\u001b[0m\n\u001b[0;32m      1\u001b[0m \u001b[0mdriver\u001b[0m\u001b[1;33m.\u001b[0m\u001b[0mswitch_to\u001b[0m\u001b[1;33m.\u001b[0m\u001b[0mwindow\u001b[0m\u001b[1;33m(\u001b[0m\u001b[0mdriver\u001b[0m\u001b[1;33m.\u001b[0m\u001b[0mwindow_handles\u001b[0m\u001b[1;33m[\u001b[0m\u001b[1;36m1\u001b[0m\u001b[1;33m]\u001b[0m\u001b[1;33m)\u001b[0m\u001b[1;33m\u001b[0m\u001b[1;33m\u001b[0m\u001b[0m\n\u001b[0;32m      2\u001b[0m \u001b[0mdriver\u001b[0m\u001b[1;33m.\u001b[0m\u001b[0mclose\u001b[0m\u001b[1;33m(\u001b[0m\u001b[1;33m)\u001b[0m\u001b[1;33m\u001b[0m\u001b[1;33m\u001b[0m\u001b[0m\n\u001b[1;32m----> 3\u001b[1;33m \u001b[0mdriver\u001b[0m\u001b[1;33m.\u001b[0m\u001b[0mswitch_to\u001b[0m\u001b[1;33m.\u001b[0m\u001b[0mwindow\u001b[0m\u001b[1;33m(\u001b[0m\u001b[0mmain_page\u001b[0m\u001b[1;33m)\u001b[0m\u001b[1;33m\u001b[0m\u001b[1;33m\u001b[0m\u001b[0m\n\u001b[0m\u001b[0;32m      4\u001b[0m \u001b[1;31m# driver.find_element_by_css_selector(\"#top-space > div > div:nth-child(3)\").click()\u001b[0m\u001b[1;33m\u001b[0m\u001b[1;33m\u001b[0m\u001b[1;33m\u001b[0m\u001b[0m\n",
      "\u001b[1;32m~\\Anaconda3\\lib\\site-packages\\selenium\\webdriver\\remote\\switch_to.py\u001b[0m in \u001b[0;36mwindow\u001b[1;34m(self, window_name)\u001b[0m\n\u001b[0;32m    110\u001b[0m         \"\"\"\n\u001b[0;32m    111\u001b[0m         \u001b[1;32mif\u001b[0m \u001b[0mself\u001b[0m\u001b[1;33m.\u001b[0m\u001b[0m_driver\u001b[0m\u001b[1;33m.\u001b[0m\u001b[0mw3c\u001b[0m\u001b[1;33m:\u001b[0m\u001b[1;33m\u001b[0m\u001b[1;33m\u001b[0m\u001b[0m\n\u001b[1;32m--> 112\u001b[1;33m             \u001b[0mself\u001b[0m\u001b[1;33m.\u001b[0m\u001b[0m_w3c_window\u001b[0m\u001b[1;33m(\u001b[0m\u001b[0mwindow_name\u001b[0m\u001b[1;33m)\u001b[0m\u001b[1;33m\u001b[0m\u001b[1;33m\u001b[0m\u001b[0m\n\u001b[0m\u001b[0;32m    113\u001b[0m             \u001b[1;32mreturn\u001b[0m\u001b[1;33m\u001b[0m\u001b[1;33m\u001b[0m\u001b[0m\n\u001b[0;32m    114\u001b[0m         \u001b[0mdata\u001b[0m \u001b[1;33m=\u001b[0m \u001b[1;33m{\u001b[0m\u001b[1;34m'name'\u001b[0m\u001b[1;33m:\u001b[0m \u001b[0mwindow_name\u001b[0m\u001b[1;33m}\u001b[0m\u001b[1;33m\u001b[0m\u001b[1;33m\u001b[0m\u001b[0m\n",
      "\u001b[1;32m~\\Anaconda3\\lib\\site-packages\\selenium\\webdriver\\remote\\switch_to.py\u001b[0m in \u001b[0;36m_w3c_window\u001b[1;34m(self, window_name)\u001b[0m\n\u001b[0;32m    124\u001b[0m         \u001b[1;32mexcept\u001b[0m \u001b[0mNoSuchWindowException\u001b[0m \u001b[1;32mas\u001b[0m \u001b[0me\u001b[0m\u001b[1;33m:\u001b[0m\u001b[1;33m\u001b[0m\u001b[1;33m\u001b[0m\u001b[0m\n\u001b[0;32m    125\u001b[0m             \u001b[1;31m# Check every window to try to find the given window name.\u001b[0m\u001b[1;33m\u001b[0m\u001b[1;33m\u001b[0m\u001b[1;33m\u001b[0m\u001b[0m\n\u001b[1;32m--> 126\u001b[1;33m             \u001b[0moriginal_handle\u001b[0m \u001b[1;33m=\u001b[0m \u001b[0mself\u001b[0m\u001b[1;33m.\u001b[0m\u001b[0m_driver\u001b[0m\u001b[1;33m.\u001b[0m\u001b[0mcurrent_window_handle\u001b[0m\u001b[1;33m\u001b[0m\u001b[1;33m\u001b[0m\u001b[0m\n\u001b[0m\u001b[0;32m    127\u001b[0m             \u001b[0mhandles\u001b[0m \u001b[1;33m=\u001b[0m \u001b[0mself\u001b[0m\u001b[1;33m.\u001b[0m\u001b[0m_driver\u001b[0m\u001b[1;33m.\u001b[0m\u001b[0mwindow_handles\u001b[0m\u001b[1;33m\u001b[0m\u001b[1;33m\u001b[0m\u001b[0m\n\u001b[0;32m    128\u001b[0m             \u001b[1;32mfor\u001b[0m \u001b[0mhandle\u001b[0m \u001b[1;32min\u001b[0m \u001b[0mhandles\u001b[0m\u001b[1;33m:\u001b[0m\u001b[1;33m\u001b[0m\u001b[1;33m\u001b[0m\u001b[0m\n",
      "\u001b[1;32m~\\Anaconda3\\lib\\site-packages\\selenium\\webdriver\\remote\\webdriver.py\u001b[0m in \u001b[0;36mcurrent_window_handle\u001b[1;34m(self)\u001b[0m\n\u001b[0;32m    709\u001b[0m         \"\"\"\n\u001b[0;32m    710\u001b[0m         \u001b[1;32mif\u001b[0m \u001b[0mself\u001b[0m\u001b[1;33m.\u001b[0m\u001b[0mw3c\u001b[0m\u001b[1;33m:\u001b[0m\u001b[1;33m\u001b[0m\u001b[1;33m\u001b[0m\u001b[0m\n\u001b[1;32m--> 711\u001b[1;33m             \u001b[1;32mreturn\u001b[0m \u001b[0mself\u001b[0m\u001b[1;33m.\u001b[0m\u001b[0mexecute\u001b[0m\u001b[1;33m(\u001b[0m\u001b[0mCommand\u001b[0m\u001b[1;33m.\u001b[0m\u001b[0mW3C_GET_CURRENT_WINDOW_HANDLE\u001b[0m\u001b[1;33m)\u001b[0m\u001b[1;33m[\u001b[0m\u001b[1;34m'value'\u001b[0m\u001b[1;33m]\u001b[0m\u001b[1;33m\u001b[0m\u001b[1;33m\u001b[0m\u001b[0m\n\u001b[0m\u001b[0;32m    712\u001b[0m         \u001b[1;32melse\u001b[0m\u001b[1;33m:\u001b[0m\u001b[1;33m\u001b[0m\u001b[1;33m\u001b[0m\u001b[0m\n\u001b[0;32m    713\u001b[0m             \u001b[1;32mreturn\u001b[0m \u001b[0mself\u001b[0m\u001b[1;33m.\u001b[0m\u001b[0mexecute\u001b[0m\u001b[1;33m(\u001b[0m\u001b[0mCommand\u001b[0m\u001b[1;33m.\u001b[0m\u001b[0mGET_CURRENT_WINDOW_HANDLE\u001b[0m\u001b[1;33m)\u001b[0m\u001b[1;33m[\u001b[0m\u001b[1;34m'value'\u001b[0m\u001b[1;33m]\u001b[0m\u001b[1;33m\u001b[0m\u001b[1;33m\u001b[0m\u001b[0m\n",
      "\u001b[1;32m~\\Anaconda3\\lib\\site-packages\\selenium\\webdriver\\remote\\webdriver.py\u001b[0m in \u001b[0;36mexecute\u001b[1;34m(self, driver_command, params)\u001b[0m\n\u001b[0;32m    319\u001b[0m         \u001b[0mresponse\u001b[0m \u001b[1;33m=\u001b[0m \u001b[0mself\u001b[0m\u001b[1;33m.\u001b[0m\u001b[0mcommand_executor\u001b[0m\u001b[1;33m.\u001b[0m\u001b[0mexecute\u001b[0m\u001b[1;33m(\u001b[0m\u001b[0mdriver_command\u001b[0m\u001b[1;33m,\u001b[0m \u001b[0mparams\u001b[0m\u001b[1;33m)\u001b[0m\u001b[1;33m\u001b[0m\u001b[1;33m\u001b[0m\u001b[0m\n\u001b[0;32m    320\u001b[0m         \u001b[1;32mif\u001b[0m \u001b[0mresponse\u001b[0m\u001b[1;33m:\u001b[0m\u001b[1;33m\u001b[0m\u001b[1;33m\u001b[0m\u001b[0m\n\u001b[1;32m--> 321\u001b[1;33m             \u001b[0mself\u001b[0m\u001b[1;33m.\u001b[0m\u001b[0merror_handler\u001b[0m\u001b[1;33m.\u001b[0m\u001b[0mcheck_response\u001b[0m\u001b[1;33m(\u001b[0m\u001b[0mresponse\u001b[0m\u001b[1;33m)\u001b[0m\u001b[1;33m\u001b[0m\u001b[1;33m\u001b[0m\u001b[0m\n\u001b[0m\u001b[0;32m    322\u001b[0m             response['value'] = self._unwrap_value(\n\u001b[0;32m    323\u001b[0m                 response.get('value', None))\n",
      "\u001b[1;32m~\\Anaconda3\\lib\\site-packages\\selenium\\webdriver\\remote\\errorhandler.py\u001b[0m in \u001b[0;36mcheck_response\u001b[1;34m(self, response)\u001b[0m\n\u001b[0;32m    240\u001b[0m                 \u001b[0malert_text\u001b[0m \u001b[1;33m=\u001b[0m \u001b[0mvalue\u001b[0m\u001b[1;33m[\u001b[0m\u001b[1;34m'alert'\u001b[0m\u001b[1;33m]\u001b[0m\u001b[1;33m.\u001b[0m\u001b[0mget\u001b[0m\u001b[1;33m(\u001b[0m\u001b[1;34m'text'\u001b[0m\u001b[1;33m)\u001b[0m\u001b[1;33m\u001b[0m\u001b[1;33m\u001b[0m\u001b[0m\n\u001b[0;32m    241\u001b[0m             \u001b[1;32mraise\u001b[0m \u001b[0mexception_class\u001b[0m\u001b[1;33m(\u001b[0m\u001b[0mmessage\u001b[0m\u001b[1;33m,\u001b[0m \u001b[0mscreen\u001b[0m\u001b[1;33m,\u001b[0m \u001b[0mstacktrace\u001b[0m\u001b[1;33m,\u001b[0m \u001b[0malert_text\u001b[0m\u001b[1;33m)\u001b[0m\u001b[1;33m\u001b[0m\u001b[1;33m\u001b[0m\u001b[0m\n\u001b[1;32m--> 242\u001b[1;33m         \u001b[1;32mraise\u001b[0m \u001b[0mexception_class\u001b[0m\u001b[1;33m(\u001b[0m\u001b[0mmessage\u001b[0m\u001b[1;33m,\u001b[0m \u001b[0mscreen\u001b[0m\u001b[1;33m,\u001b[0m \u001b[0mstacktrace\u001b[0m\u001b[1;33m)\u001b[0m\u001b[1;33m\u001b[0m\u001b[1;33m\u001b[0m\u001b[0m\n\u001b[0m\u001b[0;32m    243\u001b[0m \u001b[1;33m\u001b[0m\u001b[0m\n\u001b[0;32m    244\u001b[0m     \u001b[1;32mdef\u001b[0m \u001b[0m_value_or_default\u001b[0m\u001b[1;33m(\u001b[0m\u001b[0mself\u001b[0m\u001b[1;33m,\u001b[0m \u001b[0mobj\u001b[0m\u001b[1;33m,\u001b[0m \u001b[0mkey\u001b[0m\u001b[1;33m,\u001b[0m \u001b[0mdefault\u001b[0m\u001b[1;33m)\u001b[0m\u001b[1;33m:\u001b[0m\u001b[1;33m\u001b[0m\u001b[1;33m\u001b[0m\u001b[0m\n",
      "\u001b[1;31mNoSuchWindowException\u001b[0m: Message: no such window: target window already closed\nfrom unknown error: web view not found\n  (Session info: chrome=94.0.4606.81)\n"
     ]
    }
   ],
   "source": [
    "driver.switch_to.window(driver.window_handles[1])\n",
    "driver.close()\n",
    "driver.switch_to.window(main_page)\n",
    "# driver.find_element_by_css_selector(\"#top-space > div > div:nth-child(3)\").click()"
   ]
  },
  {
   "cell_type": "markdown",
   "metadata": {},
   "source": [
    "## ↑ 오케이 성공"
   ]
  },
  {
   "cell_type": "code",
   "execution_count": 22,
   "metadata": {},
   "outputs": [
    {
     "name": "stdout",
     "output_type": "stream",
     "text": [
      "CDwindow-6D9A73CFA9548B4E3903F7EB385E2171\n"
     ]
    }
   ],
   "source": [
    "print(driver.current_window_handle)"
   ]
  },
  {
   "cell_type": "markdown",
   "metadata": {},
   "source": [
    "# 로직이 어떻게 되는지 정리해보자면\n",
    "\n",
    "-> 첫 탭을 'main_tap'으로 저장해두자. current_window_handle   \n",
    "-> 첫 게시글 열자 (열기만 하면)   \n",
    "-> driver는 여전히 main_tap에 있음   \n",
    "-> 'next_tap' 으로 저장할 필요가 없는데...?   \n",
    "-> driver.switch_to.window(driver.window_handles[1]) 새탭으로 이동  \n",
    "-> 정보 가져오기  \n",
    "-> driver.close()  \n",
    "-> driver.switch_to.window(main_tap)  \n",
    "\n",
    "이걸 게시글 수만큼 반복?"
   ]
  },
  {
   "cell_type": "markdown",
   "metadata": {},
   "source": [
    "## 코드로 작성해보자"
   ]
  },
  {
   "cell_type": "code",
   "execution_count": 27,
   "metadata": {},
   "outputs": [
    {
     "name": "stdout",
     "output_type": "stream",
     "text": [
      "워드프레스로 홈페이지 - 쇼핑몰 - 포트폴리오 제작하기\n",
      "쌀 팔다 6개월만에 개발자 된 비법\n"
     ]
    }
   ],
   "source": [
    "# 접속 후 첫 번째 게시글 클릭\n",
    "driver.find_element_by_css_selector(\"#top-space > div > div:nth-child(1)\").click()\n",
    "\n",
    "# main_tap 에 드라이버의 메인 위치 저장하기\n",
    "main_tap = driver.current_window_handle\n",
    "\n",
    "# 새탭으로 driver 이동시키기\n",
    "driver.switch_to.window(driver.window_handles[1])\n",
    "\n",
    "# 새탭에서 필요한 정보 가져오기 - 테스트로 제목\n",
    "print(driver.find_element_by_css_selector(\"#wrap > div:nth-child(2) > div.p2p_class_container > section.p2p_class_info > h1\").text)\n",
    "\n",
    "# 새탭 닫기\n",
    "driver.close()\n",
    "\n",
    "# main_tap으로 돌아오기\n",
    "driver.switch_to.window(main_tap)\n",
    "\n",
    "# 반복해보기\n",
    "# 두 번째 게시글 클릭\n",
    "driver.find_element_by_css_selector(\"#top-space > div > div:nth-child(3)\").click()\n",
    "\n",
    "# 새탭으로 driver 이동시키기\n",
    "driver.switch_to.window(driver.window_handles[1])\n",
    "\n",
    "# 새탭에서 필요한 정보 가져오기 - 테스트로 제목\n",
    "print(driver.find_element_by_css_selector(\"#wrap > div:nth-child(2) > div.p2p_class_container > section.p2p_class_info > h1\").text)\n",
    "#vodTitle\n",
    "# 새탭 닫기\n",
    "driver.close()\n",
    "\n",
    "# main_tap으로 돌아오기\n",
    "driver.switch_to.window(main_tap)"
   ]
  },
  {
   "cell_type": "markdown",
   "metadata": {},
   "source": [
    "## ↑ 되는 거 확인 - 단, 2번째 게시글은 vod라서 셀럭터가 아예 다름.. 걍 이것만 가져오는게 나을듯\n",
    "- 1번 2번 게시글만 따로따로  \n",
    "\n",
    "- 반복을 3번부터 끝까지 돌리기"
   ]
  },
  {
   "cell_type": "code",
   "execution_count": 28,
   "metadata": {},
   "outputs": [],
   "source": [
    "driver.find_element_by_css_selector(\"#top-space > div > div:nth-child(3)\").click()"
   ]
  },
  {
   "cell_type": "code",
   "execution_count": 29,
   "metadata": {},
   "outputs": [],
   "source": [
    "driver.switch_to.window(driver.window_handles[1])"
   ]
  },
  {
   "cell_type": "code",
   "execution_count": 36,
   "metadata": {},
   "outputs": [],
   "source": [
    "a = driver.find_element_by_css_selector(\"#wrap > div:nth-child(2) > aside > div > p\").text"
   ]
  },
  {
   "cell_type": "code",
   "execution_count": 37,
   "metadata": {},
   "outputs": [
    {
     "data": {
      "text/plain": [
       "'10,000원 / 시간 → 30,000원 / 총 1회 3시간'"
      ]
     },
     "execution_count": 37,
     "metadata": {},
     "output_type": "execute_result"
    }
   ],
   "source": [
    "a = a.replace(\"\\n\", ' → ')\n",
    "a"
   ]
  },
  {
   "cell_type": "code",
   "execution_count": 44,
   "metadata": {},
   "outputs": [
    {
     "name": "stdout",
     "output_type": "stream",
     "text": [
      "4.9(120)\n",
      "(120)\n"
     ]
    }
   ],
   "source": [
    "b = driver.find_element_by_css_selector(\"#wrap > div:nth-child(2) > div.p2p_class_container > section.p2p_class_info > div > div.short_info > span > i.grade_total\")\n",
    "print(b.text)\n",
    "c = driver.find_element_by_css_selector(\"#wrap > div:nth-child(2) > div.p2p_class_container > section.p2p_class_info > div > div.short_info > span > i.grade_total > sapn\")\n",
    "print(c.text)"
   ]
  },
  {
   "cell_type": "code",
   "execution_count": 45,
   "metadata": {},
   "outputs": [
    {
     "data": {
      "text/plain": [
       "'4.9 (120)'"
      ]
     },
     "execution_count": 45,
     "metadata": {},
     "output_type": "execute_result"
    }
   ],
   "source": [
    "b = b.text.replace(\"(\", \" (\")\n",
    "b"
   ]
  },
  {
   "cell_type": "code",
   "execution_count": 46,
   "metadata": {},
   "outputs": [
    {
     "data": {
      "text/plain": [
       "['4.9', '(120)']"
      ]
     },
     "execution_count": 46,
     "metadata": {},
     "output_type": "execute_result"
    }
   ],
   "source": [
    "b.split()"
   ]
  },
  {
   "cell_type": "markdown",
   "metadata": {},
   "source": [
    "# 평점 / 평점수 한번에 가지고 오고 split하기"
   ]
  },
  {
   "cell_type": "markdown",
   "metadata": {},
   "source": [
    "### 가격"
   ]
  },
  {
   "cell_type": "code",
   "execution_count": 49,
   "metadata": {},
   "outputs": [
    {
     "data": {
      "text/plain": [
       "'30,000원'"
      ]
     },
     "execution_count": 49,
     "metadata": {},
     "output_type": "execute_result"
    }
   ],
   "source": [
    "a = driver.find_element_by_css_selector(\"#wrap > div:nth-child(2) > aside > div > p > span.total > b\")\n",
    "a.text\n",
    "a = a.text.replace(\" /\",\"\")\n",
    "a"
   ]
  },
  {
   "cell_type": "markdown",
   "metadata": {},
   "source": [
    "### 강의 수"
   ]
  },
  {
   "cell_type": "code",
   "execution_count": 50,
   "metadata": {},
   "outputs": [
    {
     "data": {
      "text/plain": [
       "'총 1회 3시간'"
      ]
     },
     "execution_count": 50,
     "metadata": {},
     "output_type": "execute_result"
    }
   ],
   "source": [
    "aa = driver.find_element_by_css_selector(\"#wrap > div:nth-child(2) > aside > div > p > span.total > span\")\n",
    "aa.text"
   ]
  },
  {
   "cell_type": "markdown",
   "metadata": {},
   "source": [
    "### 후기"
   ]
  },
  {
   "cell_type": "code",
   "execution_count": 55,
   "metadata": {},
   "outputs": [
    {
     "name": "stdout",
     "output_type": "stream",
     "text": [
      "친절하게 잘 도와주셨어요.^^\n",
      "망설이시거나 고민되시는 분들은 꼭 들으시길 바랍니다.\n",
      "개발자로서 커리어를 준비중이신 분들께 꼭!!!! 추천합니다ㅎㅎ 망설이지 말고 꼭 들어보세요!!!!\n",
      "개발과 전혀 상관없는 인문학을 공부하고 있는 대학생입니다. 제가 공부하고 있는 것이 확실한 직업과 연결되는 전공은 아니어서 진로 관련해서 고민이 많았습니다. 그렇게 오랫동안 진로 고민을 하던 와중에 IT라는 분야가 눈에 들어왔습니다. 주변 사람들의 추천도 있었고 여러 광고를 통해서도 IT라는 분야에 관심을 갖게 되었습니다. 그래서 마음을 먹고 준비하고자 정보를 찾아보니 인터넷 속에 정보가 정말 많다는 것을 알게되었습니다. 하지만 아이러니하게도 정보가 너무 많다보니 어떤 것을 어떻게 선택하고 어디서부터 시작해야할지 참 막막했었습니다. 그렇게 이런저런 정보를 찾다가 튜터님의 강의를 발견하고 아 이거다! 라는 생각에 바로 신청을 했습니다. 수업 전부터 기대를 많이 했었는데 기대 그 이상으로 많은 도움이 되었던 수업입니다. 개발자가 되는 비법에 대해 A부터Z까지 들을 수 있었던 정말 알찼던 수업이었습니다. 개발자라는 직업에 대해 망설임이 있었던 마음이 강의 덕분에 확신으로 변할 수 있었고 튜터님의 강의를 바탕으로 차근차근히 잘 준비해보면 될 것 같다는 생각이 들었습니다. 개발자라는 직업에 대해 관심을 막 가지게 되신 분이라면 꼭 들어보시길 강추드립니다!\n",
      "더읽기\n",
      "학교는 건축공학과를 나왔고 건축 일을 하다가 나와의 적성과 일이 마음에 들지 않아 현재는 전혀 전공과 다른 직업으로 일을 하고 있습니다. 그러다 서점에 들러 여러 IT개발서적을 보게 되었고 이와 관련된 직업이나 어떠한 일을 함에 있어서 이제는 IT라는 분야는 우리 삶의 깊숙히 들어와 있다 생각하고 있었습니다. 그리고 나도 과연 IT개발자라는 직업을 할 수 있을까 라는 생각을 하게 되었고 우연히 탈잉에서 저와 비슷하게 다른 분야에서 빠르게 6개월만에 개발자 된 비법 강의를 보게 되었습니다. 저는 그 과정이 매우 궁금 했으며 꼭 들어봐야 한다고 생각을 하고 결정을 하게 되었습니다. 강의를 듣고나서 제 결정이 틀리지 않았다는 생각을 하였고 저와 같이 IT개발자라는 직업을 어떠한 과정으로 그것도 매우 빠르고 정확하게 해야 하는지를 알려주셔서 저한테는 너무나 큰 도움이 되었습니다. 인터넷에는 정말 많은 정보가 있음에도 불구하고 그것이 맞는지 틀린지를 정확히 알기 어렵고 신뢰가 가지 않아 받아 드리는게 매우 힘들었고 주위에 IT개발자로 일을 하고 있는 사람이 전혀 없기에 저한테는 매우 도움되는 강의 였다고 생각합니다. 요즘 많은 IT개발자에 대한 강의학원이나 사이트가 있는데 결코 작은 돈도 아니고 큰 돈으로 배움이라는 것을 선택하고 인생에 있어서 매우 귀중한 시간을 소비하게 되는데 그 전에 \"쌀 팔다 6개월만에 개발자 된 비법\" 강사님의 강의를 먼저 들어보시는 것을 강력하게 추천 드립니다. 저는 이제 어떠한 준비를 해야 하고 언제 시작을 해야 하고 어떻게 해야 하는지를 알게 되었기에 강사님에게 정말 감사드린다는 말씀 드립니다. 앞으로도 지금 처럼 좋은 강의를 만들어 주시면 감사하겠습니다. ^^ 항상 건강하시고 앞으로 궁금한거 있으면 자주자주 물어보도로 하겠습니다.^^ 감사합니다. 강사님\n",
      "더읽기\n"
     ]
    }
   ],
   "source": [
    "aaa = driver.find_element_by_css_selector(\"#innerReviewDiv\")\n",
    "aaaa = aaa.find_elements_by_css_selector(\"ul > li > div.tutee_info\")\n",
    "for i in aaaa:\n",
    "    print(i.text)"
   ]
  },
  {
   "cell_type": "code",
   "execution_count": 58,
   "metadata": {},
   "outputs": [
    {
     "data": {
      "text/plain": [
       "5"
      ]
     },
     "execution_count": 58,
     "metadata": {},
     "output_type": "execute_result"
    }
   ],
   "source": [
    "ul = driver.find_element_by_css_selector(\"#innerReviewDiv > ul\")\n",
    "li = ul.find_elements_by_tag_name(\"li\")\n",
    "len(li)"
   ]
  },
  {
   "cell_type": "markdown",
   "metadata": {},
   "source": [
    "# 리뷰에 더읽기가 있으면 전체 클릭"
   ]
  },
  {
   "cell_type": "code",
   "execution_count": 60,
   "metadata": {},
   "outputs": [],
   "source": [
    "elements = driver.find_elements_by_class_name(\"more\")\n",
    "for element in elements :\n",
    "    driver.execute_script(\"arguments[0].click();\", element)\n"
   ]
  },
  {
   "cell_type": "markdown",
   "metadata": {},
   "source": [
    "# URL"
   ]
  },
  {
   "cell_type": "code",
   "execution_count": null,
   "metadata": {},
   "outputs": [],
   "source": [
    "html = driver.find_element_by_xpath(\"//meta[@property='og:url']\")\n",
    "print(html.get_attribute('content'))"
   ]
  }
 ],
 "metadata": {
  "kernelspec": {
   "display_name": "Python 3",
   "language": "python",
   "name": "python3"
  },
  "language_info": {
   "codemirror_mode": {
    "name": "ipython",
    "version": 3
   },
   "file_extension": ".py",
   "mimetype": "text/x-python",
   "name": "python",
   "nbconvert_exporter": "python",
   "pygments_lexer": "ipython3",
   "version": "3.7.4"
  }
 },
 "nbformat": 4,
 "nbformat_minor": 2
}
