{
 "cells": [
  {
   "cell_type": "code",
   "execution_count": 2,
   "id": "2f7a4e0e",
   "metadata": {},
   "outputs": [],
   "source": [
    "from selenium import webdriver as wb\n",
    "from selenium.webdriver.common.action_chains import ActionChains\n",
    "from selenium.webdriver import ChromeOptions\n",
    "\n",
    "from selenium.webdriver.common.keys import Keys\n",
    "from bs4 import BeautifulSoup as bs\n",
    "import time\n",
    "from tqdm.notebook import tqdm\n",
    "import pandas as pd\n",
    "import requests as req"
   ]
  },
  {
   "cell_type": "code",
   "execution_count": 3,
   "id": "a53161ee",
   "metadata": {
    "collapsed": true
   },
   "outputs": [
    {
     "data": {
      "application/vnd.jupyter.widget-view+json": {
       "model_id": "2ccc6db79d7c49eb81bf475a93f72b7b",
       "version_major": 2,
       "version_minor": 0
      },
      "text/plain": [
       "  0%|          | 0/38 [00:00<?, ?it/s]"
      ]
     },
     "metadata": {},
     "output_type": "display_data"
    },
    {
     "data": {
      "application/vnd.jupyter.widget-view+json": {
       "model_id": "9e63af9f2b44495c895c2c00f87aba70",
       "version_major": 2,
       "version_minor": 0
      },
      "text/plain": [
       "  0%|          | 0/24 [00:00<?, ?it/s]"
      ]
     },
     "metadata": {},
     "output_type": "display_data"
    },
    {
     "data": {
      "application/vnd.jupyter.widget-view+json": {
       "model_id": "68f6bdaa762c4a2e8f824951153df8cc",
       "version_major": 2,
       "version_minor": 0
      },
      "text/plain": [
       "  0%|          | 0/24 [00:00<?, ?it/s]"
      ]
     },
     "metadata": {},
     "output_type": "display_data"
    },
    {
     "data": {
      "application/vnd.jupyter.widget-view+json": {
       "model_id": "c7bcbee3c4d74b369fde3e1a51199b9e",
       "version_major": 2,
       "version_minor": 0
      },
      "text/plain": [
       "  0%|          | 0/24 [00:00<?, ?it/s]"
      ]
     },
     "metadata": {},
     "output_type": "display_data"
    },
    {
     "data": {
      "application/vnd.jupyter.widget-view+json": {
       "model_id": "20cdd862dab7446ea06be1a27e063936",
       "version_major": 2,
       "version_minor": 0
      },
      "text/plain": [
       "  0%|          | 0/24 [00:00<?, ?it/s]"
      ]
     },
     "metadata": {},
     "output_type": "display_data"
    },
    {
     "data": {
      "application/vnd.jupyter.widget-view+json": {
       "model_id": "73d407e8d2594563b111cdc7183577ca",
       "version_major": 2,
       "version_minor": 0
      },
      "text/plain": [
       "  0%|          | 0/24 [00:00<?, ?it/s]"
      ]
     },
     "metadata": {},
     "output_type": "display_data"
    },
    {
     "data": {
      "application/vnd.jupyter.widget-view+json": {
       "model_id": "9ac736ac493b4c65b1d9aaf166a702d6",
       "version_major": 2,
       "version_minor": 0
      },
      "text/plain": [
       "  0%|          | 0/24 [00:00<?, ?it/s]"
      ]
     },
     "metadata": {},
     "output_type": "display_data"
    },
    {
     "data": {
      "application/vnd.jupyter.widget-view+json": {
       "model_id": "d7895f079d254307ac72775a4bd06ded",
       "version_major": 2,
       "version_minor": 0
      },
      "text/plain": [
       "  0%|          | 0/24 [00:00<?, ?it/s]"
      ]
     },
     "metadata": {},
     "output_type": "display_data"
    },
    {
     "data": {
      "application/vnd.jupyter.widget-view+json": {
       "model_id": "20bb530e5ffd49e7954f64d3569129e6",
       "version_major": 2,
       "version_minor": 0
      },
      "text/plain": [
       "  0%|          | 0/24 [00:00<?, ?it/s]"
      ]
     },
     "metadata": {},
     "output_type": "display_data"
    },
    {
     "data": {
      "application/vnd.jupyter.widget-view+json": {
       "model_id": "8390d1cb11bc4d8590b4686fe4a24275",
       "version_major": 2,
       "version_minor": 0
      },
      "text/plain": [
       "  0%|          | 0/24 [00:00<?, ?it/s]"
      ]
     },
     "metadata": {},
     "output_type": "display_data"
    },
    {
     "data": {
      "application/vnd.jupyter.widget-view+json": {
       "model_id": "4f67faf81b8940c0883eba35c6294f72",
       "version_major": 2,
       "version_minor": 0
      },
      "text/plain": [
       "  0%|          | 0/24 [00:00<?, ?it/s]"
      ]
     },
     "metadata": {},
     "output_type": "display_data"
    },
    {
     "data": {
      "application/vnd.jupyter.widget-view+json": {
       "model_id": "e84103ee91d74ff893a6d79290b4a933",
       "version_major": 2,
       "version_minor": 0
      },
      "text/plain": [
       "  0%|          | 0/24 [00:00<?, ?it/s]"
      ]
     },
     "metadata": {},
     "output_type": "display_data"
    },
    {
     "data": {
      "application/vnd.jupyter.widget-view+json": {
       "model_id": "59614931be8c4acc974d05a68973d4d3",
       "version_major": 2,
       "version_minor": 0
      },
      "text/plain": [
       "  0%|          | 0/24 [00:00<?, ?it/s]"
      ]
     },
     "metadata": {},
     "output_type": "display_data"
    },
    {
     "data": {
      "application/vnd.jupyter.widget-view+json": {
       "model_id": "a5691d2e6c9b406fbd2f12f6aaeb39c7",
       "version_major": 2,
       "version_minor": 0
      },
      "text/plain": [
       "  0%|          | 0/24 [00:00<?, ?it/s]"
      ]
     },
     "metadata": {},
     "output_type": "display_data"
    },
    {
     "data": {
      "application/vnd.jupyter.widget-view+json": {
       "model_id": "b15ec74049a84c52990bcdb61efe6dcc",
       "version_major": 2,
       "version_minor": 0
      },
      "text/plain": [
       "  0%|          | 0/24 [00:00<?, ?it/s]"
      ]
     },
     "metadata": {},
     "output_type": "display_data"
    },
    {
     "data": {
      "application/vnd.jupyter.widget-view+json": {
       "model_id": "86335f81077a4226a2e4ba936656055f",
       "version_major": 2,
       "version_minor": 0
      },
      "text/plain": [
       "  0%|          | 0/24 [00:00<?, ?it/s]"
      ]
     },
     "metadata": {},
     "output_type": "display_data"
    },
    {
     "data": {
      "application/vnd.jupyter.widget-view+json": {
       "model_id": "71f79b44d3014671a5d06cb7a320015b",
       "version_major": 2,
       "version_minor": 0
      },
      "text/plain": [
       "  0%|          | 0/24 [00:00<?, ?it/s]"
      ]
     },
     "metadata": {},
     "output_type": "display_data"
    },
    {
     "data": {
      "application/vnd.jupyter.widget-view+json": {
       "model_id": "c3ebcfa3a07443c5a401c87c7528de1e",
       "version_major": 2,
       "version_minor": 0
      },
      "text/plain": [
       "  0%|          | 0/24 [00:00<?, ?it/s]"
      ]
     },
     "metadata": {},
     "output_type": "display_data"
    },
    {
     "data": {
      "application/vnd.jupyter.widget-view+json": {
       "model_id": "efad54fadc6a49aba87be31f89a2ed70",
       "version_major": 2,
       "version_minor": 0
      },
      "text/plain": [
       "  0%|          | 0/24 [00:00<?, ?it/s]"
      ]
     },
     "metadata": {},
     "output_type": "display_data"
    },
    {
     "data": {
      "application/vnd.jupyter.widget-view+json": {
       "model_id": "be761d970cc3442593e4366cf7fc6af4",
       "version_major": 2,
       "version_minor": 0
      },
      "text/plain": [
       "  0%|          | 0/24 [00:00<?, ?it/s]"
      ]
     },
     "metadata": {},
     "output_type": "display_data"
    },
    {
     "data": {
      "application/vnd.jupyter.widget-view+json": {
       "model_id": "3e95f920001b4eef817d119cd4c48f55",
       "version_major": 2,
       "version_minor": 0
      },
      "text/plain": [
       "  0%|          | 0/24 [00:00<?, ?it/s]"
      ]
     },
     "metadata": {},
     "output_type": "display_data"
    },
    {
     "data": {
      "application/vnd.jupyter.widget-view+json": {
       "model_id": "2d6ce785f193493cb639688dc712bd53",
       "version_major": 2,
       "version_minor": 0
      },
      "text/plain": [
       "  0%|          | 0/24 [00:00<?, ?it/s]"
      ]
     },
     "metadata": {},
     "output_type": "display_data"
    },
    {
     "data": {
      "application/vnd.jupyter.widget-view+json": {
       "model_id": "6441b31bf7b4401f89ea3f2fdd71b05f",
       "version_major": 2,
       "version_minor": 0
      },
      "text/plain": [
       "  0%|          | 0/24 [00:00<?, ?it/s]"
      ]
     },
     "metadata": {},
     "output_type": "display_data"
    },
    {
     "data": {
      "application/vnd.jupyter.widget-view+json": {
       "model_id": "9cec5983c9a940a09373b98890601ca5",
       "version_major": 2,
       "version_minor": 0
      },
      "text/plain": [
       "  0%|          | 0/24 [00:00<?, ?it/s]"
      ]
     },
     "metadata": {},
     "output_type": "display_data"
    },
    {
     "data": {
      "application/vnd.jupyter.widget-view+json": {
       "model_id": "9cfed2a497e24482a6d10e8fd24b75bb",
       "version_major": 2,
       "version_minor": 0
      },
      "text/plain": [
       "  0%|          | 0/24 [00:00<?, ?it/s]"
      ]
     },
     "metadata": {},
     "output_type": "display_data"
    },
    {
     "data": {
      "application/vnd.jupyter.widget-view+json": {
       "model_id": "ff189da4ce314c8fa9da077793739c54",
       "version_major": 2,
       "version_minor": 0
      },
      "text/plain": [
       "  0%|          | 0/24 [00:00<?, ?it/s]"
      ]
     },
     "metadata": {},
     "output_type": "display_data"
    },
    {
     "data": {
      "application/vnd.jupyter.widget-view+json": {
       "model_id": "b8055fdc98e24d708d2dbeaf41ee2fbe",
       "version_major": 2,
       "version_minor": 0
      },
      "text/plain": [
       "  0%|          | 0/24 [00:00<?, ?it/s]"
      ]
     },
     "metadata": {},
     "output_type": "display_data"
    },
    {
     "data": {
      "application/vnd.jupyter.widget-view+json": {
       "model_id": "24069ba664884988818700f98ffef230",
       "version_major": 2,
       "version_minor": 0
      },
      "text/plain": [
       "  0%|          | 0/24 [00:00<?, ?it/s]"
      ]
     },
     "metadata": {},
     "output_type": "display_data"
    },
    {
     "data": {
      "application/vnd.jupyter.widget-view+json": {
       "model_id": "b9f396ec34a54eb7bee67773d65ddd1c",
       "version_major": 2,
       "version_minor": 0
      },
      "text/plain": [
       "  0%|          | 0/24 [00:00<?, ?it/s]"
      ]
     },
     "metadata": {},
     "output_type": "display_data"
    },
    {
     "data": {
      "application/vnd.jupyter.widget-view+json": {
       "model_id": "f8c6d57b292c4663a87aa47c1bf36139",
       "version_major": 2,
       "version_minor": 0
      },
      "text/plain": [
       "  0%|          | 0/24 [00:00<?, ?it/s]"
      ]
     },
     "metadata": {},
     "output_type": "display_data"
    },
    {
     "data": {
      "application/vnd.jupyter.widget-view+json": {
       "model_id": "ddbb4eff9c8c4704af32b557f65eceaf",
       "version_major": 2,
       "version_minor": 0
      },
      "text/plain": [
       "  0%|          | 0/24 [00:00<?, ?it/s]"
      ]
     },
     "metadata": {},
     "output_type": "display_data"
    },
    {
     "data": {
      "application/vnd.jupyter.widget-view+json": {
       "model_id": "503a5fd2da7d45759be3851a52f044b2",
       "version_major": 2,
       "version_minor": 0
      },
      "text/plain": [
       "  0%|          | 0/24 [00:00<?, ?it/s]"
      ]
     },
     "metadata": {},
     "output_type": "display_data"
    },
    {
     "data": {
      "application/vnd.jupyter.widget-view+json": {
       "model_id": "de18d0a43f314882a13cc5989c23dfa0",
       "version_major": 2,
       "version_minor": 0
      },
      "text/plain": [
       "  0%|          | 0/24 [00:00<?, ?it/s]"
      ]
     },
     "metadata": {},
     "output_type": "display_data"
    },
    {
     "data": {
      "application/vnd.jupyter.widget-view+json": {
       "model_id": "5f5df6c1758748269b653be8df58ffdb",
       "version_major": 2,
       "version_minor": 0
      },
      "text/plain": [
       "  0%|          | 0/24 [00:00<?, ?it/s]"
      ]
     },
     "metadata": {},
     "output_type": "display_data"
    },
    {
     "data": {
      "application/vnd.jupyter.widget-view+json": {
       "model_id": "ffd5cd2b123a412ab69794b2c314735d",
       "version_major": 2,
       "version_minor": 0
      },
      "text/plain": [
       "  0%|          | 0/24 [00:00<?, ?it/s]"
      ]
     },
     "metadata": {},
     "output_type": "display_data"
    },
    {
     "data": {
      "application/vnd.jupyter.widget-view+json": {
       "model_id": "0e5b5882ddf3408e8adc420b71b9ebb7",
       "version_major": 2,
       "version_minor": 0
      },
      "text/plain": [
       "  0%|          | 0/24 [00:00<?, ?it/s]"
      ]
     },
     "metadata": {},
     "output_type": "display_data"
    },
    {
     "data": {
      "application/vnd.jupyter.widget-view+json": {
       "model_id": "f7708d282de648d5b6384f9bf825c32d",
       "version_major": 2,
       "version_minor": 0
      },
      "text/plain": [
       "  0%|          | 0/24 [00:00<?, ?it/s]"
      ]
     },
     "metadata": {},
     "output_type": "display_data"
    },
    {
     "data": {
      "application/vnd.jupyter.widget-view+json": {
       "model_id": "7ea89045a1784ef8a12c1424191a281a",
       "version_major": 2,
       "version_minor": 0
      },
      "text/plain": [
       "  0%|          | 0/24 [00:00<?, ?it/s]"
      ]
     },
     "metadata": {},
     "output_type": "display_data"
    },
    {
     "data": {
      "application/vnd.jupyter.widget-view+json": {
       "model_id": "4bdcb090af284040be71944073abaa53",
       "version_major": 2,
       "version_minor": 0
      },
      "text/plain": [
       "  0%|          | 0/24 [00:00<?, ?it/s]"
      ]
     },
     "metadata": {},
     "output_type": "display_data"
    },
    {
     "ename": "NameError",
     "evalue": "name 'href' is not defined",
     "output_type": "error",
     "traceback": [
      "\u001b[1;31m---------------------------------------------------------------------------\u001b[0m",
      "\u001b[1;31mNameError\u001b[0m                                 Traceback (most recent call last)",
      "\u001b[1;32m<ipython-input-3-bb5f9da868a7>\u001b[0m in \u001b[0;36m<module>\u001b[1;34m\u001b[0m\n\u001b[0;32m      8\u001b[0m         \u001b[0msoup_href\u001b[0m \u001b[1;33m=\u001b[0m \u001b[0msoup\u001b[0m\u001b[1;33m.\u001b[0m\u001b[0mselect\u001b[0m\u001b[1;33m(\u001b[0m\u001b[1;34m\"#courses_section > div > div > div > main > div.courses_container > div > div:nth-child(\"\u001b[0m\u001b[1;33m+\u001b[0m\u001b[0mstr\u001b[0m\u001b[1;33m(\u001b[0m\u001b[0mj\u001b[0m\u001b[1;33m)\u001b[0m\u001b[1;33m+\u001b[0m\u001b[1;34m\") > div > a.course_card_front\"\u001b[0m\u001b[1;33m)\u001b[0m\u001b[1;33m\u001b[0m\u001b[1;33m\u001b[0m\u001b[0m\n\u001b[0;32m      9\u001b[0m         \u001b[0mhrefs\u001b[0m\u001b[1;33m.\u001b[0m\u001b[0mappend\u001b[0m\u001b[1;33m(\u001b[0m\u001b[1;34m\"https://www.inflearn.com\"\u001b[0m\u001b[1;33m+\u001b[0m\u001b[0msoup_href\u001b[0m\u001b[1;33m[\u001b[0m\u001b[1;36m0\u001b[0m\u001b[1;33m]\u001b[0m\u001b[1;33m[\u001b[0m\u001b[1;34m\"href\"\u001b[0m\u001b[1;33m]\u001b[0m\u001b[1;33m)\u001b[0m\u001b[1;33m\u001b[0m\u001b[1;33m\u001b[0m\u001b[0m\n\u001b[1;32m---> 10\u001b[1;33m \u001b[0mlen\u001b[0m\u001b[1;33m(\u001b[0m\u001b[0mhref\u001b[0m\u001b[1;33m)\u001b[0m\u001b[1;33m\u001b[0m\u001b[1;33m\u001b[0m\u001b[0m\n\u001b[0m",
      "\u001b[1;31mNameError\u001b[0m: name 'href' is not defined"
     ]
    }
   ],
   "source": [
    "# 전체 페이지 \n",
    "hrefs = []\n",
    "for i in tqdm(range(1,39)):\n",
    "    url = \"https://www.inflearn.com/courses/it-programming?order=seq&page=\"+str(i)+\"\"\n",
    "    res = req.get(url)\n",
    "    soup = bs(res.text, \"lxml\")\n",
    "    for j in tqdm(range(1,25)):\n",
    "        soup_href = soup.select(\"#courses_section > div > div > div > main > div.courses_container > div > div:nth-child(\"+str(j)+\") > div > a.course_card_front\")\n",
    "        hrefs.append(\"https://www.inflearn.com\"+soup_href[0][\"href\"])\n",
    "len(href)"
   ]
  },
  {
   "cell_type": "code",
   "execution_count": 4,
   "id": "99e3bcc4",
   "metadata": {},
   "outputs": [],
   "source": [
    "import pickle\n",
    "\n",
    "data = {\n",
    "    'hrefs': hrefs\n",
    "}\n",
    "\n",
    "# save\n",
    "with open('hrefs.pickle', 'wb') as f:\n",
    "    pickle.dump(data,f)\n"
   ]
  },
  {
   "cell_type": "code",
   "execution_count": 176,
   "id": "2bf6e554",
   "metadata": {},
   "outputs": [],
   "source": [
    "category = []\n",
    "title = []\n",
    "instructor = []\n",
    "price = []\n",
    "numofstudents = []\n",
    "\n",
    "numoflectures = []\n",
    "rating = []\n",
    "review = []\n",
    "urls = []"
   ]
  },
  {
   "cell_type": "code",
   "execution_count": 175,
   "id": "7bd9f1a0",
   "metadata": {
    "scrolled": true
   },
   "outputs": [],
   "source": [
    "def crawler(href):\n",
    "    url = href\n",
    "    res = req.get(url)\n",
    "    soup = bs(res.text, \"lxml\")\n",
    "\n",
    "    # 박스 접근\n",
    "    info_box = soup.select(\"#main > section > div.cd-sticky-wrapper > div.cd-header.cd-header__not-owned-course > div > div > div.cd-header__right.ac-cd-7.ac-ct-12\")\n",
    "\n",
    "    # 카테고리\n",
    "    category.append(info_box[0].find_all(\"span\", \"cd-header__breadcrumb-el\")[1].text)\n",
    "\n",
    "    # 강의명\n",
    "    title.append(soup.select(\"#main > section > div.cd-sticky-wrapper > div.cd-header.cd-header__not-owned-course > div > div > div.cd-header__right.ac-cd-7.ac-ct-12 > div.cd-header__title\")[0].text)\n",
    "\n",
    "    # 강사명\n",
    "    instructor.append(soup.select(\"#main > section > div.cd-sticky-wrapper > div.cd-header.cd-header__not-owned-course > div > div > div.cd-header__right.ac-cd-7.ac-ct-12 > div.cd-header__instructors.cd-header__sub-row > a\")[0].text.strip())\n",
    "\n",
    "    # 가격\n",
    "    try:\n",
    "        try:\n",
    "            try:\n",
    "                selector = '#main > section > div.cd-content > div > div > div.ac-cd-4.ac-ct-12 > div > div > div.cd-floating__card > div.cd-floating__card--top > div > div'\n",
    "                price.append(soup.select(selector)[0].text.strip())\n",
    "            except:\n",
    "                selector = '#main > section > div.cd-content > div > div > div.ac-cd-4.ac-ct-12 > div > div > div.cd-floating__card > div.cd-floating__card--top > div.cd-floating__price.cd-floating__price--reg > h4'\n",
    "                price.append(soup.select(selector)[0].text.strip())\n",
    "        except:\n",
    "            c = soup.select(\"#main > section > div.cd-content > div > div > div.ac-cd-4.ac-ct-12 > div > div > div.cd-floating__card > div.cd-floating__card--top > div.cd-floating__price.cd-floating__price--dis\")[0].text.strip().split(\"\\n\")\n",
    "            price.append(c[1])\n",
    "    except:\n",
    "        price.append(\"0\")\n",
    "\n",
    "    # 학생수\n",
    "    try:\n",
    "        numofstudents.append(soup.select(\"#main > section > div.cd-sticky-wrapper > div.cd-header.cd-header__not-owned-course > div > div > div.cd-header__right.ac-cd-7.ac-ct-12 > div.cd-header__info-cover > span:nth-child(3) > strong\")[0].text)\n",
    "    except:\n",
    "        numofstudents.append(soup.select(\"#main > section > div.cd-sticky-wrapper > div.cd-header.cd-header__not-owned-course > div > div > div.cd-header__right.ac-cd-7.ac-ct-12 > div.cd-header__student_cnt.cd-header__sub-row > span:nth-child(2) > strong\")[0].text)\n",
    "\n",
    "    # 강의수\n",
    "    a = soup.select(\"#main > section > div.cd-content > div > div > div.ac-cd-4.ac-ct-12 > div > div > div.cd-floating__card > div.cd-floating__card--bottom > div > div:nth-child(2)\")[0].text.strip().replace(\"\\n\",\"\").split(\"  \")[-1].split(\"˙\")\n",
    "    b = soup.select(\"#main > section > div.cd-content > div > div > div.ac-cd-4.ac-ct-12 > div > div > div.cd-floating__card > div.cd-floating__card--bottom > div > div:nth-child(2)\")[0].text.strip().replace(\"\\n\",\"\").split(\"  \")[0]+\" \"+a[0]+\" / \"+a[-1]\n",
    "    numoflectures.append(b)\n",
    "\n",
    "    # 평점\n",
    "    try:\n",
    "        rating.append(soup.select(\"#main > section > div.cd-sticky-wrapper > div.cd-header.cd-header__not-owned-course > div > div > div.cd-header__right.ac-cd-7.ac-ct-12 > div.cd-header__info-cover > span.cd-header__info--star > strong\")[0].text.replace(\"(\",\"\").replace(\")\",\"\"))\n",
    "    except:\n",
    "        rating.append(\"0\")\n",
    "\n",
    "    # 후기\n",
    "    each_review = []\n",
    "    \n",
    "    try:\n",
    "        for i in range(1, len(soup.select(\"#reviews > div.cd-review__list.review-list > div.review-list__content > div\"))+1):\n",
    "            each_review.append(soup.select(\"#reviews > div.cd-review__list.review-list > div.review-list__content > div:nth-child(\"+str(i)+\") > div.review-list__el.review-el > div.review-el__body\")[0].text)\n",
    "    except:\n",
    "        if len(each_review)==0:\n",
    "            each_review.append(\"-\")\n",
    "\n",
    "    review.append(each_review)\n",
    "\n",
    "\n",
    "    # url\n",
    "    urls.append(href)"
   ]
  },
  {
   "cell_type": "code",
   "execution_count": 162,
   "id": "347415fa",
   "metadata": {},
   "outputs": [],
   "source": [
    "crawler(hrefs[0])"
   ]
  },
  {
   "cell_type": "code",
   "execution_count": 177,
   "id": "632feff6",
   "metadata": {},
   "outputs": [
    {
     "data": {
      "application/vnd.jupyter.widget-view+json": {
       "model_id": "c645cfedbafa4d1c93ff74ae494067ba",
       "version_major": 2,
       "version_minor": 0
      },
      "text/plain": [
       "  0%|          | 0/912 [00:00<?, ?it/s]"
      ]
     },
     "metadata": {},
     "output_type": "display_data"
    }
   ],
   "source": [
    "for href in tqdm(hrefs):\n",
    "    crawler(href)"
   ]
  },
  {
   "cell_type": "code",
   "execution_count": 179,
   "id": "48505047",
   "metadata": {},
   "outputs": [],
   "source": [
    "data = {\n",
    "    'category': category,\n",
    "    'title': title,\n",
    "    'instructor': instructor,\n",
    "    'price': price,\n",
    "    'numofstudents': numofstudents,\n",
    "    'numoflectures': numoflectures,\n",
    "    'rating': rating,\n",
    "    'review': review,\n",
    "    'urls': urls\n",
    "}\n",
    "\n",
    "# save\n",
    "with open('inflearn.pickle', 'wb') as f:\n",
    "    pickle.dump(data,f)"
   ]
  },
  {
   "cell_type": "code",
   "execution_count": 19,
   "id": "cec023ae",
   "metadata": {},
   "outputs": [],
   "source": [
    "no = []\n",
    "for i in range(1,913):\n",
    "    no.append(i)"
   ]
  },
  {
   "cell_type": "code",
   "execution_count": 28,
   "id": "25d1a4e7",
   "metadata": {},
   "outputs": [],
   "source": [
    "df = pd.DataFrame(data, index=no)\n",
    "df.to_csv(\"inflearn_info.csv\", encoding=\"utf-8-sig\")"
   ]
  }
 ],
 "metadata": {
  "kernelspec": {
   "display_name": "Python 3",
   "language": "python",
   "name": "python3"
  },
  "language_info": {
   "codemirror_mode": {
    "name": "ipython",
    "version": 3
   },
   "file_extension": ".py",
   "mimetype": "text/x-python",
   "name": "python",
   "nbconvert_exporter": "python",
   "pygments_lexer": "ipython3",
   "version": "3.8.8"
  }
 },
 "nbformat": 4,
 "nbformat_minor": 5
}
