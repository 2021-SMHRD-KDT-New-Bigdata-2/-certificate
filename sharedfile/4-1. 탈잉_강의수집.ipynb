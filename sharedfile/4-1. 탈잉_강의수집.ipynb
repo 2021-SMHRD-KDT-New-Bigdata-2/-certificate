{
 "cells": [
  {
   "cell_type": "code",
   "execution_count": 1,
   "metadata": {},
   "outputs": [],
   "source": [
    "from selenium import webdriver as wb\n",
    "from selenium.webdriver.common.action_chains import ActionChains\n",
    "from selenium.webdriver import ChromeOptions\n",
    "\n",
    "from selenium.webdriver.common.keys import Keys\n",
    "from bs4 import BeautifulSoup as bs\n",
    "import time\n",
    "from tqdm.notebook import tqdm\n",
    "import pandas as pd"
   ]
  },
  {
   "cell_type": "code",
   "execution_count": 60,
   "metadata": {},
   "outputs": [],
   "source": [
    "# 인프런 메인페이지 접속\n",
    "\n",
    "options = ChromeOptions()\n",
    "options.add_argument(\"--start-maximized\")\n",
    "driver = wb.Chrome(options=options)\n",
    "time.sleep(1)\n",
    "url = \"https://taling.me/\"\n",
    "driver.get(url)\n",
    "time.sleep(1)\n",
    "\n",
    "# 팝업 닫기\n",
    "driver.find_element_by_css_selector(\"#layerPop > div > div > button:nth-child(3)\").click()\n",
    "time.sleep(1)\n",
    "\n",
    "# 전체 카테고리 > 웹개발 접근\n",
    "driver.find_element_by_css_selector(\"#header > div > div.category > button\").click()\n",
    "time.sleep(1)\n",
    "\n",
    "# 강의 > 개발.프로그래밍.전체 접근하기 ( 1 페이지 )\n",
    "driver.find_element_by_css_selector(\"#menuList > table > tbody > tr:nth-child(7) > td > a:nth-child(8)\").click()\n",
    "time.sleep(1)"
   ]
  },
  {
   "cell_type": "code",
   "execution_count": 62,
   "metadata": {},
   "outputs": [],
   "source": [
    "driver.find_element_by_css_selector(\"#top-space > div > div:nth-child(1)\").click()\n",
    "time.sleep(1)"
   ]
  },
  {
   "cell_type": "code",
   "execution_count": 64,
   "metadata": {},
   "outputs": [
    {
     "data": {
      "text/plain": [
       "'210,000원 / 총 1회 3시간'"
      ]
     },
     "execution_count": 64,
     "metadata": {},
     "output_type": "execute_result"
    }
   ],
   "source": [
    "driver.switch_to.window(driver.window_handles[1])\n",
    "price = driver.find_element_by_css_selector(\"#wrap > div:nth-child(2) > aside > div > p > span.total\")\n",
    "price.text"
   ]
  },
  {
   "cell_type": "code",
   "execution_count": 36,
   "metadata": {},
   "outputs": [
    {
     "data": {
      "text/plain": [
       "'https://taling.me/vod/view/27056'"
      ]
     },
     "execution_count": 36,
     "metadata": {},
     "output_type": "execute_result"
    }
   ],
   "source": [
    "test1 = driver.find_element_by_css_selector(\"#top-space > div > div:nth-child(2) > a\")\n",
    "test1.get_attribute(\"href\")"
   ]
  },
  {
   "cell_type": "code",
   "execution_count": 61,
   "metadata": {},
   "outputs": [
    {
     "name": "stdout",
     "output_type": "stream",
     "text": [
      "https://taling.me/Talent/Detail/2636\n",
      "https://taling.me/vod/view/27056\n",
      "https://taling.me/Talent/Detail/14945\n",
      "https://taling.me/Talent/Detail/22937\n",
      "https://taling.me/Talent/Detail/33286\n",
      "https://taling.me/Talent/Detail/31240\n",
      "https://taling.me/Talent/Detail/7481\n",
      "https://taling.me/Talent/Detail/20250\n",
      "https://taling.me/Talent/Detail/16151\n",
      "https://taling.me/Talent/Detail/15050\n",
      "https://taling.me/Talent/Detail/26355\n",
      "https://taling.me/Talent/Detail/35881\n",
      "https://taling.me/Talent/Detail/9838\n",
      "https://taling.me/Talent/Detail/11149\n",
      "https://taling.me/Talent/Detail/2500\n"
     ]
    }
   ],
   "source": [
    "div = driver.find_element_by_css_selector(\"#top-space > div\")\n",
    "indiv = div.find_elements_by_css_selector(\"a\")\n",
    "for i in range(len(indiv)):\n",
    "    print(indiv[i].get_attribute(\"href\"))"
   ]
  },
  {
   "cell_type": "code",
   "execution_count": 49,
   "metadata": {},
   "outputs": [
    {
     "data": {
      "text/plain": [
       "15"
      ]
     },
     "execution_count": 49,
     "metadata": {},
     "output_type": "execute_result"
    }
   ],
   "source": [
    "len(indiv)"
   ]
  },
  {
   "cell_type": "code",
   "execution_count": 52,
   "metadata": {},
   "outputs": [
    {
     "data": {
      "text/plain": [
       "'https://taling.me/Talent/Detail/14945'"
      ]
     },
     "execution_count": 52,
     "metadata": {},
     "output_type": "execute_result"
    }
   ],
   "source": [
    "indiv[2].get_attribute(\"href\")"
   ]
  },
  {
   "cell_type": "code",
   "execution_count": 56,
   "metadata": {},
   "outputs": [
    {
     "name": "stderr",
     "output_type": "stream",
     "text": [
      "<ipython-input-56-4c4778b25ea9>:1: DeprecationWarning: use driver.switch_to.window instead\n",
      "  dirver = driver.switch_to_window(driver.window_handles[1])\n",
      "<ipython-input-56-4c4778b25ea9>:3: DeprecationWarning: use driver.switch_to.window instead\n",
      "  driver = driver.switch_to_window(driver.window_handles[0])\n"
     ]
    }
   ],
   "source": [
    "dirver = driver.switch_to.window(driver.window_handles[1])\n",
    "driver.close()\n",
    "driver = driver.switch_to.window(driver.window_handles[0])"
   ]
  },
  {
   "cell_type": "code",
   "execution_count": 39,
   "metadata": {},
   "outputs": [
    {
     "name": "stdout",
     "output_type": "stream",
     "text": [
      "None\n",
      "None\n",
      "None\n",
      "None\n",
      "None\n",
      "None\n",
      "None\n"
     ]
    }
   ],
   "source": [
    "iframes = driver.find_elements_by_css_selector(\"iframe\")\n",
    "for iframe in iframes:\n",
    "    print(iframe.get_attribute('href'))"
   ]
  },
  {
   "cell_type": "code",
   "execution_count": null,
   "metadata": {},
   "outputs": [],
   "source": [
    "#top-space > div > div:nth-child(2) > a"
   ]
  },
  {
   "cell_type": "code",
   "execution_count": null,
   "metadata": {},
   "outputs": [],
   "source": [
    "from urllib.request import urlopen\n",
    "\n",
    "html = urlopen(\"http://www.naver.com\")          #urlopen : 원하는 주소의 웹페이지 내용 가져오기\n",
    "\n",
    "bsObject = BeautifulSoup(html, \"html.parser\")   #BeautifulSoup 객체로 변환\n",
    "\n",
    "# BeautifulSoup 객체는 웹문서를 파싱한 상태\n",
    "#     파싱 :  일련의 문자열로 구성된 문서를 의미 있는 토큰(token)으로 분해하고  \n",
    "#             토큰으로 구성된 파스 트리(parse tree)를 만드는 것\n",
    "# 웹 문서가 태그 별로 분해되어 태그로 구성된 트리가 구성\n",
    "\n",
    "#print(bsObject) # 웹 문서 전체가 출력\n",
    "#print(bsObject.head.title) # 타이틀 가져오기\n",
    "\n",
    "for meta in bsObject.head.find_all('meta'): # 웹문서에서 메타 데이터만 찾아서 content 속성값을 가져오기\n",
    "    print(meta.get('content'))"
   ]
  },
  {
   "cell_type": "code",
   "execution_count": null,
   "metadata": {},
   "outputs": [],
   "source": [
    "# 인프런 메인페이지 접속\n",
    "\n",
    "options = ChromeOptions()\n",
    "options.add_argument(\"--start-maximized\")\n",
    "driver = wb.Chrome(options=options)\n",
    "time.sleep(1)\n",
    "url = \"https://taling.me/\"\n",
    "driver.get(url)\n",
    "time.sleep(1)\n",
    "\n",
    "\n",
    "# 강의 > 개발.프로그래밍.전체 접근하기 ( 1 페이지 )\n",
    "driver.find_element_by_css_selector(\"#menuList > table > tbody > tr:nth-child(7) > td > a:nth-child(8)\").click()\n",
    "time.sleep(1)\n",
    "\n",
    "driver.find_element_by_css_selector(\"#accordion_5 > div.accordion-header.toggle\").click()\n",
    "time.sleep(1)\n",
    "\n",
    "\n",
    "\n",
    "# 전체 페이지 수 만큼 반복하기 X - 불가능하다고 하심 - 다음 페이지 누르게 하고 페이지수는 내가 확인해서 정해줘야 한다고 함.\n",
    "# 나중에 67페이지가 70페이지가 되더라도 어쩔 수 없다 함. 다 뜯어보면 될지 몰라도 그렇게 잘 안 한다고 하네요\n",
    "\n",
    "\n",
    "\n",
    "# 각 content에서 title, instructor, rating, price를 다 담아주기 \n",
    "# 전체를 담아주니까 밖에 설정\n",
    "title = []\n",
    "instructor = []\n",
    "tags = []\n",
    "price = []\n",
    "index = []\n",
    "cnt = 0\n",
    "\n",
    "\n",
    "for page_no in tqdm(range(67)):\n",
    "\n",
    "    # 한 페이지에 있는 게시글 모아진 div 1개 담기\n",
    "    div_container = driver.find_element_by_css_selector(\"#courses_section > div > div > div > main > div.courses_container > div\")\n",
    "    \n",
    "    # 박스 중에서 첫 번째 게시글 담기  -  하위 태그 div 5개를 다 가지고 있다\n",
    "    div_content = div_container.find_elements_by_class_name(\"card-content\")\n",
    "    \n",
    "    # 아래에서 content를 find_element\"s\" 로 가져오면 리스트 형태가 되는데 content 안에 title, instructor, rating, price가 담겨 있음\n",
    "    # 각 content마다 title, instructor, rating, price의 셀레니움코드?를 받아줄 곳. 67페이지 전체\n",
    "    div_course_title = []\n",
    "    div_instructor = []\n",
    "    div_tags = []\n",
    "    div_price = []\n",
    "\n",
    "    # 반복문으로 필요 없는 tags 빼고 정보 담기\n",
    "    for i in div_content:\n",
    "        div_course_title.append(i.find_element_by_class_name(\"course_title\"))\n",
    "        div_instructor.append(i.find_element_by_class_name(\"instructor\"))\n",
    "        div_tags.append(i.find_element_by_class_name(\"tags\"))\n",
    "        div_price.append(i.find_element_by_class_name(\"price\"))\n",
    "\n",
    "        \n",
    "    # 각각 가지고 오기    \n",
    "    for i in tqdm(range(len(div_course_title))):\n",
    "        title.append(div_course_title[i].text)\n",
    "        instructor.append(div_instructor[i].text)\n",
    "        tags.append(div_tags[i].text)\n",
    "        price.append(div_price[i].text)\n",
    "        cnt += 1 \n",
    "        index.append(cnt)\n",
    "    \n",
    "    body = driver.find_element_by_css_selector(\"body\")\n",
    "    for i in range(2):\n",
    "        body.send_keys(Keys.PAGE_DOWN)\n",
    "        time.sleep(0.5)\n",
    "    \n",
    "    # 다음 페이지로 넘어가기\n",
    "    time.sleep(1)\n",
    "    driver.find_element_by_xpath(\"//*[@id=\\\"courses_section\\\"]/div/div/div/footer/nav/div/a\").click()\n",
    "    time.sleep(1)\n",
    "\n",
    "\n",
    "dic = {'제목':title, '강사':instructor, '가격':price, '설명':tags}\n",
    "df = pd.DataFrame(dic, index=index)\n",
    "df.to_csv(\"인프런_강의목록.csv\", encoding='utf-8-sig')"
   ]
  },
  {
   "cell_type": "code",
   "execution_count": null,
   "metadata": {},
   "outputs": [],
   "source": []
  },
  {
   "cell_type": "code",
   "execution_count": null,
   "metadata": {},
   "outputs": [],
   "source": []
  },
  {
   "cell_type": "code",
   "execution_count": null,
   "metadata": {},
   "outputs": [],
   "source": []
  },
  {
   "cell_type": "code",
   "execution_count": null,
   "metadata": {},
   "outputs": [],
   "source": []
  },
  {
   "cell_type": "code",
   "execution_count": null,
   "metadata": {},
   "outputs": [],
   "source": []
  },
  {
   "cell_type": "code",
   "execution_count": 19,
   "metadata": {},
   "outputs": [
    {
     "data": {
      "text/plain": [
       "<selenium.webdriver.remote.webelement.WebElement (session=\"4be52fc711b7fe5852367e2c19f73052\", element=\"7db555e4-2ac3-463f-9cf5-6158604c9e4f\")>"
      ]
     },
     "execution_count": 19,
     "metadata": {},
     "output_type": "execute_result"
    }
   ],
   "source": [
    "html = driver.find_element_by_css_selector(\"head > meta:nth-child(8)\")\n",
    "html"
   ]
  },
  {
   "cell_type": "code",
   "execution_count": 21,
   "metadata": {},
   "outputs": [
    {
     "name": "stdout",
     "output_type": "stream",
     "text": [
      "https://taling.me/\n"
     ]
    }
   ],
   "source": [
    "html = driver.find_element_by_xpath(\"//meta[@property='og:url']\")\n",
    "print(html.get_attribute('content'))"
   ]
  }
 ],
 "metadata": {
  "kernelspec": {
   "display_name": "Python 3",
   "language": "python",
   "name": "python3"
  },
  "language_info": {
   "codemirror_mode": {
    "name": "ipython",
    "version": 3
   },
   "file_extension": ".py",
   "mimetype": "text/x-python",
   "name": "python",
   "nbconvert_exporter": "python",
   "pygments_lexer": "ipython3",
   "version": "3.7.4"
  }
 },
 "nbformat": 4,
 "nbformat_minor": 5
}
